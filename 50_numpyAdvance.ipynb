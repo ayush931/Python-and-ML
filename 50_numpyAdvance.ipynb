{
 "cells": [
  {
   "cell_type": "code",
   "execution_count": 9,
   "id": "80d022ed",
   "metadata": {},
   "outputs": [],
   "source": [
    "import numpy as np"
   ]
  },
  {
   "cell_type": "code",
   "execution_count": 10,
   "id": "1ea6ee39",
   "metadata": {},
   "outputs": [
    {
     "data": {
      "text/plain": [
       "array([0., 0., 0., 0., 0.])"
      ]
     },
     "execution_count": 10,
     "metadata": {},
     "output_type": "execute_result"
    }
   ],
   "source": [
    "a = np.zeros(5) # Return a new array of given shape and type, filled with zeros\n",
    "a"
   ]
  },
  {
   "cell_type": "code",
   "execution_count": 11,
   "id": "8b5a5d6d",
   "metadata": {},
   "outputs": [
    {
     "data": {
      "text/plain": [
       "1"
      ]
     },
     "execution_count": 11,
     "metadata": {},
     "output_type": "execute_result"
    }
   ],
   "source": [
    "a.ndim  # dimension of array"
   ]
  },
  {
   "cell_type": "code",
   "execution_count": 12,
   "id": "4f63c865",
   "metadata": {},
   "outputs": [
    {
     "data": {
      "text/plain": [
       "array([[0., 0., 0., 0.],\n",
       "       [0., 0., 0., 0.],\n",
       "       [0., 0., 0., 0.]])"
      ]
     },
     "execution_count": 12,
     "metadata": {},
     "output_type": "execute_result"
    }
   ],
   "source": [
    "b = np.zeros((3, 4))\n",
    "b"
   ]
  },
  {
   "cell_type": "code",
   "execution_count": 13,
   "id": "901c2686",
   "metadata": {},
   "outputs": [
    {
     "data": {
      "text/plain": [
       "2"
      ]
     },
     "execution_count": 13,
     "metadata": {},
     "output_type": "execute_result"
    }
   ],
   "source": [
    "b.ndim"
   ]
  },
  {
   "cell_type": "code",
   "execution_count": 14,
   "id": "292bb7e5",
   "metadata": {},
   "outputs": [
    {
     "data": {
      "text/plain": [
       "array([[1., 1., 1., 1.],\n",
       "       [1., 1., 1., 1.],\n",
       "       [1., 1., 1., 1.]])"
      ]
     },
     "execution_count": 14,
     "metadata": {},
     "output_type": "execute_result"
    }
   ],
   "source": [
    "c = np.ones((3, 4))\n",
    "c"
   ]
  },
  {
   "cell_type": "code",
   "execution_count": 15,
   "id": "a4a2a9d6",
   "metadata": {},
   "outputs": [
    {
     "data": {
      "text/plain": [
       "array([[2, 3, 4],\n",
       "       [2, 3, 4]])"
      ]
     },
     "execution_count": 15,
     "metadata": {},
     "output_type": "execute_result"
    }
   ],
   "source": [
    "np.array([[2, 3, 4], [2, 3, 4]])"
   ]
  },
  {
   "cell_type": "code",
   "execution_count": 16,
   "id": "1ff13486",
   "metadata": {},
   "outputs": [
    {
     "ename": "AttributeError",
     "evalue": "module 'numpy' has no attribute 'twos'",
     "output_type": "error",
     "traceback": [
      "\u001b[0;31m---------------------------------------------------------------------------\u001b[0m",
      "\u001b[0;31mAttributeError\u001b[0m                            Traceback (most recent call last)",
      "Cell \u001b[0;32mIn[16], line 1\u001b[0m\n\u001b[0;32m----> 1\u001b[0m \u001b[43mnp\u001b[49m\u001b[38;5;241;43m.\u001b[39;49m\u001b[43mtwos\u001b[49m(\u001b[38;5;241m3\u001b[39m) \u001b[38;5;66;03m# does not exists\u001b[39;00m\n",
      "File \u001b[0;32m/usr/lib/python3/dist-packages/numpy/__init__.py:333\u001b[0m, in \u001b[0;36m__getattr__\u001b[0;34m(attr)\u001b[0m\n\u001b[1;32m    330\u001b[0m     \u001b[38;5;124m\"\u001b[39m\u001b[38;5;124mRemoved in NumPy 1.25.0\u001b[39m\u001b[38;5;124m\"\u001b[39m\n\u001b[1;32m    331\u001b[0m     \u001b[38;5;28;01mraise\u001b[39;00m \u001b[38;5;167;01mRuntimeError\u001b[39;00m(\u001b[38;5;124m\"\u001b[39m\u001b[38;5;124mTester was removed in NumPy 1.25.\u001b[39m\u001b[38;5;124m\"\u001b[39m)\n\u001b[0;32m--> 333\u001b[0m \u001b[38;5;28;01mraise\u001b[39;00m \u001b[38;5;167;01mAttributeError\u001b[39;00m(\u001b[38;5;124m\"\u001b[39m\u001b[38;5;124mmodule \u001b[39m\u001b[38;5;132;01m{!r}\u001b[39;00m\u001b[38;5;124m has no attribute \u001b[39m\u001b[38;5;124m\"\u001b[39m\n\u001b[1;32m    334\u001b[0m                      \u001b[38;5;124m\"\u001b[39m\u001b[38;5;132;01m{!r}\u001b[39;00m\u001b[38;5;124m\"\u001b[39m\u001b[38;5;241m.\u001b[39mformat(\u001b[38;5;18m__name__\u001b[39m, attr))\n",
      "\u001b[0;31mAttributeError\u001b[0m: module 'numpy' has no attribute 'twos'"
     ]
    }
   ],
   "source": [
    "np.twos(3) # does not exists"
   ]
  },
  {
   "cell_type": "markdown",
   "id": "75d9a12e",
   "metadata": {},
   "source": [
    "# 3 dimension array"
   ]
  },
  {
   "cell_type": "code",
   "execution_count": 17,
   "id": "2dbc8f37",
   "metadata": {},
   "outputs": [
    {
     "data": {
      "text/plain": [
       "array([[[0., 0., 0.],\n",
       "        [0., 0., 0.]]])"
      ]
     },
     "execution_count": 17,
     "metadata": {},
     "output_type": "execute_result"
    }
   ],
   "source": [
    "arr = np.zeros((1, 2, 3))\n",
    "arr"
   ]
  },
  {
   "cell_type": "code",
   "execution_count": 18,
   "id": "14217f31",
   "metadata": {},
   "outputs": [
    {
     "data": {
      "text/plain": [
       "3"
      ]
     },
     "execution_count": 18,
     "metadata": {},
     "output_type": "execute_result"
    }
   ],
   "source": [
    "arr.ndim # 3 dimension"
   ]
  },
  {
   "cell_type": "code",
   "execution_count": 19,
   "id": "8f9f78b2",
   "metadata": {},
   "outputs": [
    {
     "data": {
      "text/plain": [
       "array([[[[0., 0., 0., 0.],\n",
       "         [0., 0., 0., 0.],\n",
       "         [0., 0., 0., 0.]],\n",
       "\n",
       "        [[0., 0., 0., 0.],\n",
       "         [0., 0., 0., 0.],\n",
       "         [0., 0., 0., 0.]]]])"
      ]
     },
     "execution_count": 19,
     "metadata": {},
     "output_type": "execute_result"
    }
   ],
   "source": [
    "np.zeros((1, 2, 3, 4)) # 4 dimension array and it goes on"
   ]
  },
  {
   "cell_type": "code",
   "execution_count": 20,
   "id": "3a8a170f",
   "metadata": {},
   "outputs": [],
   "source": [
    "arr = np.ones((3, 4))"
   ]
  },
  {
   "cell_type": "code",
   "execution_count": 21,
   "id": "e367e440",
   "metadata": {},
   "outputs": [
    {
     "data": {
      "text/plain": [
       "array([[1., 1., 1., 1.],\n",
       "       [1., 1., 1., 1.],\n",
       "       [1., 1., 1., 1.]])"
      ]
     },
     "execution_count": 21,
     "metadata": {},
     "output_type": "execute_result"
    }
   ],
   "source": [
    "arr"
   ]
  },
  {
   "cell_type": "code",
   "execution_count": 22,
   "id": "260bded7",
   "metadata": {},
   "outputs": [
    {
     "data": {
      "text/plain": [
       "array([[6., 6., 6., 6.],\n",
       "       [6., 6., 6., 6.],\n",
       "       [6., 6., 6., 6.]])"
      ]
     },
     "execution_count": 22,
     "metadata": {},
     "output_type": "execute_result"
    }
   ],
   "source": [
    "arr + 5 # add 5 to every element of the array"
   ]
  },
  {
   "cell_type": "code",
   "execution_count": 23,
   "id": "e35312b1",
   "metadata": {},
   "outputs": [
    {
     "data": {
      "text/plain": [
       "array([[5., 5., 5., 5.],\n",
       "       [5., 5., 5., 5.],\n",
       "       [5., 5., 5., 5.]])"
      ]
     },
     "execution_count": 23,
     "metadata": {},
     "output_type": "execute_result"
    }
   ],
   "source": [
    "arr * 5"
   ]
  },
  {
   "cell_type": "code",
   "execution_count": 24,
   "id": "302d4a2b",
   "metadata": {},
   "outputs": [
    {
     "data": {
      "text/plain": [
       "array([[0., 0., 0., 0.],\n",
       "       [0., 0., 0., 0.],\n",
       "       [0., 0., 0., 0.]])"
      ]
     },
     "execution_count": 24,
     "metadata": {},
     "output_type": "execute_result"
    }
   ],
   "source": [
    "arr - 1"
   ]
  },
  {
   "cell_type": "code",
   "execution_count": 25,
   "id": "f4a623eb",
   "metadata": {},
   "outputs": [
    {
     "data": {
      "text/plain": [
       "array([[1., 0., 0.],\n",
       "       [0., 1., 0.],\n",
       "       [0., 0., 1.]])"
      ]
     },
     "execution_count": 25,
     "metadata": {},
     "output_type": "execute_result"
    }
   ],
   "source": [
    "np.eye(3) # Return a 2-D array with ones on the diagonals and zeros elsewhere."
   ]
  },
  {
   "cell_type": "code",
   "execution_count": 26,
   "id": "ff733f1f",
   "metadata": {},
   "outputs": [
    {
     "data": {
      "text/plain": [
       "array([[1, 0, 0],\n",
       "       [0, 1, 0],\n",
       "       [0, 0, 1]])"
      ]
     },
     "execution_count": 26,
     "metadata": {},
     "output_type": "execute_result"
    }
   ],
   "source": [
    "np.eye(3, dtype=int)  # change the type of element from float to integer"
   ]
  },
  {
   "cell_type": "code",
   "execution_count": 27,
   "id": "1ab49122",
   "metadata": {},
   "outputs": [
    {
     "data": {
      "text/plain": [
       "array([[0., 0., 0., 0.],\n",
       "       [0., 0., 0., 0.],\n",
       "       [0., 0., 0., 0.]])"
      ]
     },
     "execution_count": 27,
     "metadata": {},
     "output_type": "execute_result"
    }
   ],
   "source": [
    "np.empty((3, 4))  # Return a new array of given shape and type, without initializing entries."
   ]
  },
  {
   "cell_type": "markdown",
   "id": "2779751a",
   "metadata": {},
   "source": [
    "# random module"
   ]
  },
  {
   "cell_type": "code",
   "execution_count": 28,
   "id": "e08c816f",
   "metadata": {},
   "outputs": [
    {
     "data": {
      "text/plain": [
       "1"
      ]
     },
     "execution_count": 28,
     "metadata": {},
     "output_type": "execute_result"
    }
   ],
   "source": [
    "import random\n",
    "random.choice((1, 2, 3, 4, 5, 6)) # display random number from the given number"
   ]
  },
  {
   "cell_type": "code",
   "execution_count": 29,
   "id": "9054bb57",
   "metadata": {},
   "outputs": [
    {
     "data": {
      "text/plain": [
       "'A'"
      ]
     },
     "execution_count": 29,
     "metadata": {},
     "output_type": "execute_result"
    }
   ],
   "source": [
    "random.choice(\"Ayush\")"
   ]
  },
  {
   "cell_type": "code",
   "execution_count": 30,
   "id": "8d712daa",
   "metadata": {},
   "outputs": [
    {
     "data": {
      "text/plain": [
       "1"
      ]
     },
     "execution_count": 30,
     "metadata": {},
     "output_type": "execute_result"
    }
   ],
   "source": [
    "random.randrange(1, 20)"
   ]
  },
  {
   "cell_type": "code",
   "execution_count": 31,
   "id": "80e79820",
   "metadata": {},
   "outputs": [
    {
     "data": {
      "text/plain": [
       "0.39692469804467745"
      ]
     },
     "execution_count": 31,
     "metadata": {},
     "output_type": "execute_result"
    }
   ],
   "source": [
    "random.random() # a random number is generated between 0 (included) and 1 (excluded)"
   ]
  },
  {
   "cell_type": "code",
   "execution_count": 32,
   "id": "1025eff8",
   "metadata": {},
   "outputs": [],
   "source": [
    "lis = [1, 2, 3, 4, 5]"
   ]
  },
  {
   "cell_type": "code",
   "execution_count": 33,
   "id": "6eb7ef84",
   "metadata": {},
   "outputs": [
    {
     "data": {
      "text/plain": [
       "[1, 2, 3, 4, 5]"
      ]
     },
     "execution_count": 33,
     "metadata": {},
     "output_type": "execute_result"
    }
   ],
   "source": [
    "lis"
   ]
  },
  {
   "cell_type": "code",
   "execution_count": 34,
   "id": "c0c06014",
   "metadata": {},
   "outputs": [
    {
     "data": {
      "text/plain": [
       "[5, 4, 2, 1, 3]"
      ]
     },
     "execution_count": 34,
     "metadata": {},
     "output_type": "execute_result"
    }
   ],
   "source": [
    "random.shuffle(lis)\n",
    "lis"
   ]
  },
  {
   "cell_type": "code",
   "execution_count": 35,
   "id": "6d4c934a",
   "metadata": {},
   "outputs": [
    {
     "data": {
      "text/plain": [
       "13.423314216392999"
      ]
     },
     "execution_count": 35,
     "metadata": {},
     "output_type": "execute_result"
    }
   ],
   "source": [
    "random.uniform(7, 15) # Get a random number in the range [a, b) or [a, b] depending on rounding."
   ]
  },
  {
   "cell_type": "markdown",
   "id": "c3218b08",
   "metadata": {},
   "source": [
    "# random number related concepts in array"
   ]
  },
  {
   "cell_type": "code",
   "execution_count": 36,
   "id": "0b5436f8",
   "metadata": {},
   "outputs": [
    {
     "data": {
      "text/plain": [
       "array([], dtype=float64)"
      ]
     },
     "execution_count": 36,
     "metadata": {},
     "output_type": "execute_result"
    }
   ],
   "source": [
    "np.array([])"
   ]
  },
  {
   "cell_type": "code",
   "execution_count": 37,
   "id": "4764b8d9",
   "metadata": {},
   "outputs": [
    {
     "data": {
      "text/plain": [
       "0.6668570863419303"
      ]
     },
     "execution_count": 37,
     "metadata": {},
     "output_type": "execute_result"
    }
   ],
   "source": [
    "np.random.random_sample() # Return random floats in the half-open interval [0.0, 1.0)."
   ]
  },
  {
   "cell_type": "code",
   "execution_count": 38,
   "id": "94181c74",
   "metadata": {},
   "outputs": [
    {
     "data": {
      "text/plain": [
       "array([0.68738506, 0.29193066, 0.41116916, 0.00636581, 0.69750352])"
      ]
     },
     "execution_count": 38,
     "metadata": {},
     "output_type": "execute_result"
    }
   ],
   "source": [
    "np.random.random_sample((5, ))"
   ]
  },
  {
   "cell_type": "code",
   "execution_count": 39,
   "id": "91ffac8d",
   "metadata": {},
   "outputs": [
    {
     "data": {
      "text/plain": [
       "array([0.8049015])"
      ]
     },
     "execution_count": 39,
     "metadata": {},
     "output_type": "execute_result"
    }
   ],
   "source": [
    "np.random.rand(1)"
   ]
  },
  {
   "cell_type": "code",
   "execution_count": 40,
   "id": "83c4b2d2",
   "metadata": {},
   "outputs": [
    {
     "data": {
      "text/plain": [
       "array([[0.14376647, 0.19319779, 0.37596972],\n",
       "       [0.2014936 , 0.29914795, 0.33224283]])"
      ]
     },
     "execution_count": 40,
     "metadata": {},
     "output_type": "execute_result"
    }
   ],
   "source": [
    "np.random.rand(2, 3)"
   ]
  },
  {
   "cell_type": "code",
   "execution_count": 41,
   "id": "5ded2c3f",
   "metadata": {},
   "outputs": [
    {
     "data": {
      "text/plain": [
       "array([[-2.26523485, -2.41557751,  0.05999493],\n",
       "       [-0.89138354,  1.60323555, -0.23626798]])"
      ]
     },
     "execution_count": 41,
     "metadata": {},
     "output_type": "execute_result"
    }
   ],
   "source": [
    "np.random.randn(2, 3)"
   ]
  },
  {
   "cell_type": "code",
   "execution_count": 42,
   "id": "d8274a4a",
   "metadata": {},
   "outputs": [],
   "source": [
    "arr = np.random.randint(1, 5, size=(3, 4))"
   ]
  },
  {
   "cell_type": "code",
   "execution_count": 44,
   "id": "5fcb2245",
   "metadata": {},
   "outputs": [
    {
     "data": {
      "text/plain": [
       "(3, 4)"
      ]
     },
     "execution_count": 44,
     "metadata": {},
     "output_type": "execute_result"
    }
   ],
   "source": [
    "arr.shape"
   ]
  },
  {
   "cell_type": "code",
   "execution_count": 45,
   "id": "ddbc955e",
   "metadata": {},
   "outputs": [
    {
     "data": {
      "text/plain": [
       "12"
      ]
     },
     "execution_count": 45,
     "metadata": {},
     "output_type": "execute_result"
    }
   ],
   "source": [
    "arr.size"
   ]
  },
  {
   "cell_type": "markdown",
   "id": "c792f02b",
   "metadata": {},
   "source": [
    "# reshaping the array"
   ]
  },
  {
   "cell_type": "code",
   "execution_count": null,
   "id": "2e27f1b7",
   "metadata": {},
   "outputs": [
    {
     "data": {
      "text/plain": [
       "array([[1, 4, 4, 1, 4, 4],\n",
       "       [3, 4, 2, 3, 2, 3]])"
      ]
     },
     "execution_count": 48,
     "metadata": {},
     "output_type": "execute_result"
    }
   ],
   "source": [
    "# array size will not change, always reshape parameter should be multiplication of original array size\n",
    "arr.reshape(2, 6) # size will be same"
   ]
  },
  {
   "cell_type": "code",
   "execution_count": 49,
   "id": "516c0f8b",
   "metadata": {},
   "outputs": [
    {
     "ename": "ValueError",
     "evalue": "cannot reshape array of size 12 into shape (2,3)",
     "output_type": "error",
     "traceback": [
      "\u001b[0;31m---------------------------------------------------------------------------\u001b[0m",
      "\u001b[0;31mValueError\u001b[0m                                Traceback (most recent call last)",
      "Cell \u001b[0;32mIn[49], line 1\u001b[0m\n\u001b[0;32m----> 1\u001b[0m \u001b[43marr\u001b[49m\u001b[38;5;241;43m.\u001b[39;49m\u001b[43mreshape\u001b[49m\u001b[43m(\u001b[49m\u001b[38;5;241;43m2\u001b[39;49m\u001b[43m,\u001b[49m\u001b[43m \u001b[49m\u001b[38;5;241;43m3\u001b[39;49m\u001b[43m)\u001b[49m\n",
      "\u001b[0;31mValueError\u001b[0m: cannot reshape array of size 12 into shape (2,3)"
     ]
    }
   ],
   "source": [
    "arr.reshape(2, 3)"
   ]
  },
  {
   "cell_type": "code",
   "execution_count": null,
   "id": "03dd53f0",
   "metadata": {},
   "outputs": [
    {
     "data": {
      "text/plain": [
       "array([[1, 4, 4, 1],\n",
       "       [4, 4, 3, 4],\n",
       "       [2, 3, 2, 3]])"
      ]
     },
     "execution_count": 50,
     "metadata": {},
     "output_type": "execute_result"
    }
   ],
   "source": [
    "# case when you don't know in reshape what should be the column count, just put (-integer)\n",
    "\n",
    "arr.reshape(3, -1)"
   ]
  },
  {
   "cell_type": "code",
   "execution_count": 51,
   "id": "6e13ef85",
   "metadata": {},
   "outputs": [
    {
     "data": {
      "text/plain": [
       "array([[1, 4, 4],\n",
       "       [1, 4, 4],\n",
       "       [3, 4, 2],\n",
       "       [3, 2, 3]])"
      ]
     },
     "execution_count": 51,
     "metadata": {},
     "output_type": "execute_result"
    }
   ],
   "source": [
    "arr.reshape(-1, 3)"
   ]
  },
  {
   "cell_type": "code",
   "execution_count": 52,
   "id": "1b32a343",
   "metadata": {},
   "outputs": [
    {
     "data": {
      "text/plain": [
       "array([[1, 4, 4, 1],\n",
       "       [4, 4, 3, 4],\n",
       "       [2, 3, 2, 3]])"
      ]
     },
     "execution_count": 52,
     "metadata": {},
     "output_type": "execute_result"
    }
   ],
   "source": [
    "arr.reshape(12, 1).base # to see the original array"
   ]
  },
  {
   "cell_type": "code",
   "execution_count": 53,
   "id": "1b748426",
   "metadata": {},
   "outputs": [
    {
     "data": {
      "text/plain": [
       "array([[[1, 4, 4],\n",
       "        [1, 4, 4]],\n",
       "\n",
       "       [[3, 4, 2],\n",
       "        [3, 2, 3]]])"
      ]
     },
     "execution_count": 53,
     "metadata": {},
     "output_type": "execute_result"
    }
   ],
   "source": [
    "arr.reshape(2, 2, 3)"
   ]
  },
  {
   "cell_type": "code",
   "execution_count": 55,
   "id": "cfc6e89a",
   "metadata": {},
   "outputs": [
    {
     "data": {
      "text/plain": [
       "array([[[1],\n",
       "        [4],\n",
       "        [4]],\n",
       "\n",
       "       [[1],\n",
       "        [4],\n",
       "        [4]],\n",
       "\n",
       "       [[3],\n",
       "        [4],\n",
       "        [2]],\n",
       "\n",
       "       [[3],\n",
       "        [2],\n",
       "        [3]]])"
      ]
     },
     "execution_count": 55,
     "metadata": {},
     "output_type": "execute_result"
    }
   ],
   "source": [
    "arr.reshape(4, 3, 1) # 3 columns and 1 row repeated 4 times in the third dimension"
   ]
  },
  {
   "cell_type": "markdown",
   "id": "04d798dd",
   "metadata": {},
   "source": [
    "# conditions with array"
   ]
  },
  {
   "cell_type": "code",
   "execution_count": 56,
   "id": "635de0e5",
   "metadata": {},
   "outputs": [
    {
     "data": {
      "text/plain": [
       "array([[9, 3, 2, 6, 5, 3],\n",
       "       [1, 7, 4, 8, 3, 5],\n",
       "       [6, 9, 6, 6, 8, 7],\n",
       "       [9, 8, 6, 3, 3, 1],\n",
       "       [6, 7, 8, 2, 6, 3]])"
      ]
     },
     "execution_count": 56,
     "metadata": {},
     "output_type": "execute_result"
    }
   ],
   "source": [
    "arr1 = np.random.randint(1, 10, (5, 6))\n",
    "arr1"
   ]
  },
  {
   "cell_type": "code",
   "execution_count": 57,
   "id": "2e9212e8",
   "metadata": {},
   "outputs": [
    {
     "data": {
      "text/plain": [
       "2"
      ]
     },
     "execution_count": 57,
     "metadata": {},
     "output_type": "execute_result"
    }
   ],
   "source": [
    "arr1.ndim"
   ]
  },
  {
   "cell_type": "code",
   "execution_count": 58,
   "id": "473e2ae9",
   "metadata": {},
   "outputs": [
    {
     "data": {
      "text/plain": [
       "30"
      ]
     },
     "execution_count": 58,
     "metadata": {},
     "output_type": "execute_result"
    }
   ],
   "source": [
    "arr1.size"
   ]
  },
  {
   "cell_type": "code",
   "execution_count": 59,
   "id": "54868936",
   "metadata": {},
   "outputs": [
    {
     "data": {
      "text/plain": [
       "array([[ True, False, False,  True, False, False],\n",
       "       [False,  True, False,  True, False, False],\n",
       "       [ True,  True,  True,  True,  True,  True],\n",
       "       [ True,  True,  True, False, False, False],\n",
       "       [ True,  True,  True, False,  True, False]])"
      ]
     },
     "execution_count": 59,
     "metadata": {},
     "output_type": "execute_result"
    }
   ],
   "source": [
    "arr1 > 5"
   ]
  },
  {
   "cell_type": "code",
   "execution_count": 60,
   "id": "b5ac9019",
   "metadata": {},
   "outputs": [
    {
     "data": {
      "text/plain": [
       "array([9, 6, 7, 8, 6, 9, 6, 6, 8, 7, 9, 8, 6, 6, 7, 8, 6])"
      ]
     },
     "execution_count": 60,
     "metadata": {},
     "output_type": "execute_result"
    }
   ],
   "source": [
    "arr1[arr1 > 5]"
   ]
  },
  {
   "cell_type": "code",
   "execution_count": 61,
   "id": "cd43ae17",
   "metadata": {},
   "outputs": [
    {
     "data": {
      "text/plain": [
       "array([3, 2, 3, 1, 4, 3, 3, 3, 1, 2, 3])"
      ]
     },
     "execution_count": 61,
     "metadata": {},
     "output_type": "execute_result"
    }
   ],
   "source": [
    "arr1[arr1 < 5]"
   ]
  },
  {
   "cell_type": "code",
   "execution_count": 62,
   "id": "21fa721c",
   "metadata": {},
   "outputs": [
    {
     "data": {
      "text/plain": [
       "array([9, 3, 2, 6, 5, 3])"
      ]
     },
     "execution_count": 62,
     "metadata": {},
     "output_type": "execute_result"
    }
   ],
   "source": [
    "arr1[0]"
   ]
  },
  {
   "cell_type": "code",
   "execution_count": 63,
   "id": "c93d14a7",
   "metadata": {},
   "outputs": [
    {
     "data": {
      "text/plain": [
       "4"
      ]
     },
     "execution_count": 63,
     "metadata": {},
     "output_type": "execute_result"
    }
   ],
   "source": [
    "arr1[1][2]"
   ]
  },
  {
   "cell_type": "code",
   "execution_count": null,
   "id": "e034445e",
   "metadata": {},
   "outputs": [
    {
     "data": {
      "text/plain": [
       "array([[9, 3, 2, 6, 5, 3],\n",
       "       [1, 7, 4, 8, 3, 5]])"
      ]
     },
     "execution_count": 64,
     "metadata": {},
     "output_type": "execute_result"
    }
   ],
   "source": [
    "arr1[0:2] # print row from 0 to 2 - 1"
   ]
  },
  {
   "cell_type": "code",
   "execution_count": null,
   "id": "66b4c900",
   "metadata": {},
   "outputs": [
    {
     "data": {
      "text/plain": [
       "array([[9, 2],\n",
       "       [1, 4],\n",
       "       [6, 6]])"
      ]
     },
     "execution_count": 65,
     "metadata": {},
     "output_type": "execute_result"
    }
   ],
   "source": [
    "arr1[0:3, [0, 2]] # give 0 to 2 rows and 0th and 2nd column"
   ]
  },
  {
   "cell_type": "code",
   "execution_count": null,
   "id": "ffb669aa",
   "metadata": {},
   "outputs": [
    {
     "data": {
      "text/plain": [
       "array([[3],\n",
       "       [7],\n",
       "       [9]])"
      ]
     },
     "execution_count": 66,
     "metadata": {},
     "output_type": "execute_result"
    }
   ],
   "source": [
    "# slicing both rows and columns\n",
    "arr1[0:3, 1:2]"
   ]
  },
  {
   "cell_type": "code",
   "execution_count": 67,
   "id": "205064b8",
   "metadata": {},
   "outputs": [],
   "source": [
    "# mathematical operations on two arrays"
   ]
  },
  {
   "cell_type": "code",
   "execution_count": 70,
   "id": "b8cd9d1f",
   "metadata": {},
   "outputs": [],
   "source": [
    "arr1 = np.random.randint(1, 10, (3, 3))\n",
    "arr2 = np.random.randint(1, 10, (3, 3))"
   ]
  },
  {
   "cell_type": "code",
   "execution_count": 72,
   "id": "4cade68e",
   "metadata": {},
   "outputs": [
    {
     "data": {
      "text/plain": [
       "array([[7, 8, 5],\n",
       "       [5, 6, 5],\n",
       "       [7, 9, 5]])"
      ]
     },
     "execution_count": 72,
     "metadata": {},
     "output_type": "execute_result"
    }
   ],
   "source": [
    "arr1"
   ]
  },
  {
   "cell_type": "code",
   "execution_count": 73,
   "id": "498cf675",
   "metadata": {},
   "outputs": [
    {
     "data": {
      "text/plain": [
       "array([[5, 4, 5],\n",
       "       [1, 6, 1],\n",
       "       [5, 5, 6]])"
      ]
     },
     "execution_count": 73,
     "metadata": {},
     "output_type": "execute_result"
    }
   ],
   "source": [
    "arr2"
   ]
  },
  {
   "cell_type": "code",
   "execution_count": null,
   "id": "2ee2c8c3",
   "metadata": {},
   "outputs": [
    {
     "data": {
      "text/plain": [
       "array([[12, 12, 10],\n",
       "       [ 6, 12,  6],\n",
       "       [12, 14, 11]])"
      ]
     },
     "execution_count": 74,
     "metadata": {},
     "output_type": "execute_result"
    }
   ],
   "source": [
    "arr1 + arr2 # indexwise element addition"
   ]
  },
  {
   "cell_type": "code",
   "execution_count": null,
   "id": "a47d3420",
   "metadata": {},
   "outputs": [
    {
     "data": {
      "text/plain": [
       "array([[ 2,  4,  0],\n",
       "       [ 4,  0,  4],\n",
       "       [ 2,  4, -1]])"
      ]
     },
     "execution_count": 75,
     "metadata": {},
     "output_type": "execute_result"
    }
   ],
   "source": [
    "arr1 - arr2 # indexwise element substraction"
   ]
  },
  {
   "cell_type": "code",
   "execution_count": null,
   "id": "75030439",
   "metadata": {},
   "outputs": [
    {
     "data": {
      "text/plain": [
       "array([[35, 32, 25],\n",
       "       [ 5, 36,  5],\n",
       "       [35, 45, 30]])"
      ]
     },
     "execution_count": 76,
     "metadata": {},
     "output_type": "execute_result"
    }
   ],
   "source": [
    "arr1 * arr2  # indexwise element multiplication"
   ]
  },
  {
   "cell_type": "code",
   "execution_count": 77,
   "id": "5174bff8",
   "metadata": {},
   "outputs": [
    {
     "data": {
      "text/plain": [
       "array([[1.4       , 2.        , 1.        ],\n",
       "       [5.        , 1.        , 5.        ],\n",
       "       [1.4       , 1.8       , 0.83333333]])"
      ]
     },
     "execution_count": 77,
     "metadata": {},
     "output_type": "execute_result"
    }
   ],
   "source": [
    "arr1 / arr2 # indexwise element division"
   ]
  },
  {
   "cell_type": "code",
   "execution_count": 78,
   "id": "53e11d56",
   "metadata": {},
   "outputs": [
    {
     "data": {
      "text/plain": [
       "(array([[7, 8, 5],\n",
       "        [5, 6, 5],\n",
       "        [7, 9, 5]]),\n",
       " array([[5, 4, 5],\n",
       "        [1, 6, 1],\n",
       "        [5, 5, 6]]))"
      ]
     },
     "execution_count": 78,
     "metadata": {},
     "output_type": "execute_result"
    }
   ],
   "source": [
    "arr1, arr2"
   ]
  },
  {
   "cell_type": "code",
   "execution_count": 79,
   "id": "b448fda8",
   "metadata": {},
   "outputs": [],
   "source": [
    "# matrix multiplication >> different from index multiplication"
   ]
  },
  {
   "cell_type": "code",
   "execution_count": 80,
   "id": "269b8887",
   "metadata": {},
   "outputs": [
    {
     "data": {
      "text/plain": [
       "array([[ 68, 101,  73],\n",
       "       [ 56,  81,  61],\n",
       "       [ 69, 107,  74]])"
      ]
     },
     "execution_count": 80,
     "metadata": {},
     "output_type": "execute_result"
    }
   ],
   "source": [
    "arr1 @ arr2"
   ]
  },
  {
   "cell_type": "code",
   "execution_count": null,
   "id": "46287d23",
   "metadata": {},
   "outputs": [
    {
     "data": {
      "text/plain": [
       "array([[ 68, 101,  73],\n",
       "       [ 56,  81,  61],\n",
       "       [ 69, 107,  74]])"
      ]
     },
     "execution_count": 81,
     "metadata": {},
     "output_type": "execute_result"
    }
   ],
   "source": [
    "np.dot(arr1, arr2) # another way of multiplication"
   ]
  },
  {
   "cell_type": "code",
   "execution_count": 82,
   "id": "9b3acf6d",
   "metadata": {},
   "outputs": [
    {
     "name": "stderr",
     "output_type": "stream",
     "text": [
      "/tmp/ipykernel_296215/824215542.py:1: RuntimeWarning: divide by zero encountered in divide\n",
      "  arr1 / 0\n"
     ]
    },
    {
     "data": {
      "text/plain": [
       "array([[inf, inf, inf],\n",
       "       [inf, inf, inf],\n",
       "       [inf, inf, inf]])"
      ]
     },
     "execution_count": 82,
     "metadata": {},
     "output_type": "execute_result"
    }
   ],
   "source": [
    "arr1 / 0"
   ]
  },
  {
   "cell_type": "code",
   "execution_count": 83,
   "id": "6bbedac6",
   "metadata": {},
   "outputs": [
    {
     "data": {
      "text/plain": [
       "array([[0., 0., 0., 0.],\n",
       "       [0., 0., 0., 0.],\n",
       "       [0., 0., 0., 0.]])"
      ]
     },
     "execution_count": 83,
     "metadata": {},
     "output_type": "execute_result"
    }
   ],
   "source": [
    "arr = np.zeros((3, 4))\n",
    "arr"
   ]
  },
  {
   "cell_type": "code",
   "execution_count": 84,
   "id": "21ff776b",
   "metadata": {},
   "outputs": [],
   "source": [
    "a = np.array([1, 2, 3, 4])\n"
   ]
  },
  {
   "cell_type": "code",
   "execution_count": 85,
   "id": "d2ef3b30",
   "metadata": {},
   "outputs": [
    {
     "data": {
      "text/plain": [
       "array([[1., 2., 3., 4.],\n",
       "       [1., 2., 3., 4.],\n",
       "       [1., 2., 3., 4.]])"
      ]
     },
     "execution_count": 85,
     "metadata": {},
     "output_type": "execute_result"
    }
   ],
   "source": [
    "arr + a"
   ]
  },
  {
   "cell_type": "code",
   "execution_count": 87,
   "id": "37b62fd2",
   "metadata": {},
   "outputs": [
    {
     "data": {
      "text/plain": [
       "array([[1],\n",
       "       [2],\n",
       "       [3],\n",
       "       [4],\n",
       "       [5]])"
      ]
     },
     "execution_count": 87,
     "metadata": {},
     "output_type": "execute_result"
    }
   ],
   "source": [
    "a = np.array([[1, 2, 3, 4, 5]])\n",
    "a.T # transpose"
   ]
  },
  {
   "cell_type": "code",
   "execution_count": 88,
   "id": "4868a0c9",
   "metadata": {},
   "outputs": [
    {
     "data": {
      "text/plain": [
       "array([[2.64575131, 2.82842712, 2.23606798],\n",
       "       [2.23606798, 2.44948974, 2.23606798],\n",
       "       [2.64575131, 3.        , 2.23606798]])"
      ]
     },
     "execution_count": 88,
     "metadata": {},
     "output_type": "execute_result"
    }
   ],
   "source": [
    "np.sqrt(arr1)"
   ]
  },
  {
   "cell_type": "code",
   "execution_count": 89,
   "id": "0c1e1221",
   "metadata": {},
   "outputs": [
    {
     "data": {
      "text/plain": [
       "array([[0.84509804, 0.90308999, 0.69897   ],\n",
       "       [0.69897   , 0.77815125, 0.69897   ],\n",
       "       [0.84509804, 0.95424251, 0.69897   ]])"
      ]
     },
     "execution_count": 89,
     "metadata": {},
     "output_type": "execute_result"
    }
   ],
   "source": [
    "np.log10(arr1)"
   ]
  },
  {
   "cell_type": "code",
   "execution_count": 90,
   "id": "89fb4b6f",
   "metadata": {},
   "outputs": [
    {
     "data": {
      "text/plain": [
       "array([[1096.63315843, 2980.95798704,  148.4131591 ],\n",
       "       [ 148.4131591 ,  403.42879349,  148.4131591 ],\n",
       "       [1096.63315843, 8103.08392758,  148.4131591 ]])"
      ]
     },
     "execution_count": 90,
     "metadata": {},
     "output_type": "execute_result"
    }
   ],
   "source": [
    "np.exp(arr1)"
   ]
  },
  {
   "cell_type": "code",
   "execution_count": 91,
   "id": "8211d067",
   "metadata": {},
   "outputs": [
    {
     "data": {
      "text/plain": [
       "5"
      ]
     },
     "execution_count": 91,
     "metadata": {},
     "output_type": "execute_result"
    }
   ],
   "source": [
    "np.min(arr1)"
   ]
  },
  {
   "cell_type": "code",
   "execution_count": 92,
   "id": "97ed129b",
   "metadata": {},
   "outputs": [
    {
     "data": {
      "text/plain": [
       "9"
      ]
     },
     "execution_count": 92,
     "metadata": {},
     "output_type": "execute_result"
    }
   ],
   "source": [
    "np.max(arr1)"
   ]
  },
  {
   "cell_type": "code",
   "execution_count": null,
   "id": "555a78b7",
   "metadata": {},
   "outputs": [],
   "source": []
  }
 ],
 "metadata": {
  "kernelspec": {
   "display_name": "Python 3",
   "language": "python",
   "name": "python3"
  },
  "language_info": {
   "codemirror_mode": {
    "name": "ipython",
    "version": 3
   },
   "file_extension": ".py",
   "mimetype": "text/x-python",
   "name": "python",
   "nbconvert_exporter": "python",
   "pygments_lexer": "ipython3",
   "version": "3.12.3"
  }
 },
 "nbformat": 4,
 "nbformat_minor": 5
}
