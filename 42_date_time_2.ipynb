{
 "cells": [
  {
   "cell_type": "code",
   "execution_count": 1,
   "metadata": {},
   "outputs": [],
   "source": [
    "import pandas as pd"
   ]
  },
  {
   "cell_type": "code",
   "execution_count": 2,
   "metadata": {},
   "outputs": [
    {
     "data": {
      "text/plain": [
       "str"
      ]
     },
     "execution_count": 2,
     "metadata": {},
     "output_type": "execute_result"
    }
   ],
   "source": [
    "s = '2024-10-01'\n",
    "type(s)"
   ]
  },
  {
   "cell_type": "code",
   "execution_count": 3,
   "metadata": {},
   "outputs": [],
   "source": [
    "date = pd.to_datetime(s)"
   ]
  },
  {
   "cell_type": "code",
   "execution_count": 4,
   "metadata": {},
   "outputs": [
    {
     "data": {
      "text/plain": [
       "Timestamp('2024-10-01 00:00:00')"
      ]
     },
     "execution_count": 4,
     "metadata": {},
     "output_type": "execute_result"
    }
   ],
   "source": [
    "date"
   ]
  },
  {
   "cell_type": "code",
   "execution_count": 5,
   "metadata": {},
   "outputs": [
    {
     "data": {
      "text/plain": [
       "Timestamp('2024-10-06 00:00:00')"
      ]
     },
     "execution_count": 5,
     "metadata": {},
     "output_type": "execute_result"
    }
   ],
   "source": [
    "delta = pd.Timedelta(days=5)\n",
    "date2 = date + delta\n",
    "date2"
   ]
  },
  {
   "cell_type": "code",
   "execution_count": 6,
   "metadata": {},
   "outputs": [],
   "source": [
    "from datetime import datetime, timedelta"
   ]
  },
  {
   "cell_type": "code",
   "execution_count": 7,
   "metadata": {},
   "outputs": [],
   "source": [
    "current_time = datetime.now()"
   ]
  },
  {
   "cell_type": "code",
   "execution_count": 8,
   "metadata": {},
   "outputs": [
    {
     "name": "stdout",
     "output_type": "stream",
     "text": [
      "2024-11-07 13:55:54.623079\n"
     ]
    }
   ],
   "source": [
    "print(current_time) #UTC"
   ]
  },
  {
   "cell_type": "code",
   "execution_count": 9,
   "metadata": {},
   "outputs": [
    {
     "data": {
      "text/plain": [
       "datetime.datetime(2024, 11, 7, 19, 25, 54, 623079)"
      ]
     },
     "execution_count": 9,
     "metadata": {},
     "output_type": "execute_result"
    }
   ],
   "source": [
    "ist_time = current_time + timedelta(hours=5, minutes=30)\n",
    "ist_time"
   ]
  },
  {
   "cell_type": "code",
   "execution_count": 10,
   "metadata": {},
   "outputs": [
    {
     "name": "stdout",
     "output_type": "stream",
     "text": [
      "2024-11-07 19:25:54.623079\n"
     ]
    }
   ],
   "source": [
    "print(ist_time)"
   ]
  },
  {
   "cell_type": "code",
   "execution_count": 11,
   "metadata": {},
   "outputs": [
    {
     "name": "stdout",
     "output_type": "stream",
     "text": [
      "2024-11-07 19:25:56.534688\n"
     ]
    }
   ],
   "source": [
    "ist_time = datetime.now() + timedelta(hours=5, minutes=30)\n",
    "print(ist_time)"
   ]
  },
  {
   "cell_type": "code",
   "execution_count": 12,
   "metadata": {},
   "outputs": [
    {
     "data": {
      "text/plain": [
       "Timestamp('2024-02-07 15:53:29')"
      ]
     },
     "execution_count": 12,
     "metadata": {},
     "output_type": "execute_result"
    }
   ],
   "source": [
    "current_dt = pd.to_datetime('2024-02-07 15:53:29')\n",
    "current_dt"
   ]
  },
  {
   "cell_type": "code",
   "execution_count": 13,
   "metadata": {},
   "outputs": [
    {
     "data": {
      "text/plain": [
       "Timestamp('2024-02-07 10:23:29')"
      ]
     },
     "execution_count": 13,
     "metadata": {},
     "output_type": "execute_result"
    }
   ],
   "source": [
    "utc_dt = current_dt - pd.Timedelta(hours=5, minutes=30)\n",
    "utc_dt"
   ]
  },
  {
   "cell_type": "code",
   "execution_count": 14,
   "metadata": {},
   "outputs": [],
   "source": [
    "import yfinance as yf"
   ]
  },
  {
   "cell_type": "code",
   "execution_count": 15,
   "metadata": {},
   "outputs": [
    {
     "name": "stderr",
     "output_type": "stream",
     "text": [
      "[*********************100%***********************]  1 of 1 completed\n"
     ]
    },
    {
     "data": {
      "text/html": [
       "<div>\n",
       "<style scoped>\n",
       "    .dataframe tbody tr th:only-of-type {\n",
       "        vertical-align: middle;\n",
       "    }\n",
       "\n",
       "    .dataframe tbody tr th {\n",
       "        vertical-align: top;\n",
       "    }\n",
       "\n",
       "    .dataframe thead tr th {\n",
       "        text-align: left;\n",
       "    }\n",
       "\n",
       "    .dataframe thead tr:last-of-type th {\n",
       "        text-align: right;\n",
       "    }\n",
       "</style>\n",
       "<table border=\"1\" class=\"dataframe\">\n",
       "  <thead>\n",
       "    <tr>\n",
       "      <th>Price</th>\n",
       "      <th>Adj Close</th>\n",
       "      <th>Close</th>\n",
       "      <th>High</th>\n",
       "      <th>Low</th>\n",
       "      <th>Open</th>\n",
       "      <th>Volume</th>\n",
       "    </tr>\n",
       "    <tr>\n",
       "      <th>Ticker</th>\n",
       "      <th>AAPL</th>\n",
       "      <th>AAPL</th>\n",
       "      <th>AAPL</th>\n",
       "      <th>AAPL</th>\n",
       "      <th>AAPL</th>\n",
       "      <th>AAPL</th>\n",
       "    </tr>\n",
       "    <tr>\n",
       "      <th>Date</th>\n",
       "      <th></th>\n",
       "      <th></th>\n",
       "      <th></th>\n",
       "      <th></th>\n",
       "      <th></th>\n",
       "      <th></th>\n",
       "    </tr>\n",
       "  </thead>\n",
       "  <tbody>\n",
       "    <tr>\n",
       "      <th>2021-01-04 00:00:00+00:00</th>\n",
       "      <td>126.683434</td>\n",
       "      <td>129.410004</td>\n",
       "      <td>133.610001</td>\n",
       "      <td>126.760002</td>\n",
       "      <td>133.520004</td>\n",
       "      <td>143301900</td>\n",
       "    </tr>\n",
       "    <tr>\n",
       "      <th>2021-01-05 00:00:00+00:00</th>\n",
       "      <td>128.249725</td>\n",
       "      <td>131.009995</td>\n",
       "      <td>131.740005</td>\n",
       "      <td>128.429993</td>\n",
       "      <td>128.889999</td>\n",
       "      <td>97664900</td>\n",
       "    </tr>\n",
       "    <tr>\n",
       "      <th>2021-01-06 00:00:00+00:00</th>\n",
       "      <td>123.932640</td>\n",
       "      <td>126.599998</td>\n",
       "      <td>131.050003</td>\n",
       "      <td>126.379997</td>\n",
       "      <td>127.720001</td>\n",
       "      <td>155088000</td>\n",
       "    </tr>\n",
       "    <tr>\n",
       "      <th>2021-01-07 00:00:00+00:00</th>\n",
       "      <td>128.161621</td>\n",
       "      <td>130.919998</td>\n",
       "      <td>131.630005</td>\n",
       "      <td>127.860001</td>\n",
       "      <td>128.360001</td>\n",
       "      <td>109578200</td>\n",
       "    </tr>\n",
       "    <tr>\n",
       "      <th>2021-01-08 00:00:00+00:00</th>\n",
       "      <td>129.267807</td>\n",
       "      <td>132.050003</td>\n",
       "      <td>132.630005</td>\n",
       "      <td>130.229996</td>\n",
       "      <td>132.429993</td>\n",
       "      <td>105158200</td>\n",
       "    </tr>\n",
       "    <tr>\n",
       "      <th>...</th>\n",
       "      <td>...</td>\n",
       "      <td>...</td>\n",
       "      <td>...</td>\n",
       "      <td>...</td>\n",
       "      <td>...</td>\n",
       "      <td>...</td>\n",
       "    </tr>\n",
       "    <tr>\n",
       "      <th>2023-01-24 00:00:00+00:00</th>\n",
       "      <td>141.201950</td>\n",
       "      <td>142.529999</td>\n",
       "      <td>143.160004</td>\n",
       "      <td>140.300003</td>\n",
       "      <td>140.309998</td>\n",
       "      <td>66435100</td>\n",
       "    </tr>\n",
       "    <tr>\n",
       "      <th>2023-01-25 00:00:00+00:00</th>\n",
       "      <td>140.538177</td>\n",
       "      <td>141.860001</td>\n",
       "      <td>142.429993</td>\n",
       "      <td>138.809998</td>\n",
       "      <td>140.889999</td>\n",
       "      <td>65799300</td>\n",
       "    </tr>\n",
       "    <tr>\n",
       "      <th>2023-01-26 00:00:00+00:00</th>\n",
       "      <td>142.618622</td>\n",
       "      <td>143.960007</td>\n",
       "      <td>144.250000</td>\n",
       "      <td>141.899994</td>\n",
       "      <td>143.169998</td>\n",
       "      <td>54105100</td>\n",
       "    </tr>\n",
       "    <tr>\n",
       "      <th>2023-01-27 00:00:00+00:00</th>\n",
       "      <td>144.570267</td>\n",
       "      <td>145.929993</td>\n",
       "      <td>147.229996</td>\n",
       "      <td>143.080002</td>\n",
       "      <td>143.160004</td>\n",
       "      <td>70555800</td>\n",
       "    </tr>\n",
       "    <tr>\n",
       "      <th>2023-01-30 00:00:00+00:00</th>\n",
       "      <td>141.667557</td>\n",
       "      <td>143.000000</td>\n",
       "      <td>145.550003</td>\n",
       "      <td>142.850006</td>\n",
       "      <td>144.960007</td>\n",
       "      <td>64015300</td>\n",
       "    </tr>\n",
       "  </tbody>\n",
       "</table>\n",
       "<p>522 rows × 6 columns</p>\n",
       "</div>"
      ],
      "text/plain": [
       "Price                       Adj Close       Close        High         Low  \\\n",
       "Ticker                           AAPL        AAPL        AAPL        AAPL   \n",
       "Date                                                                        \n",
       "2021-01-04 00:00:00+00:00  126.683434  129.410004  133.610001  126.760002   \n",
       "2021-01-05 00:00:00+00:00  128.249725  131.009995  131.740005  128.429993   \n",
       "2021-01-06 00:00:00+00:00  123.932640  126.599998  131.050003  126.379997   \n",
       "2021-01-07 00:00:00+00:00  128.161621  130.919998  131.630005  127.860001   \n",
       "2021-01-08 00:00:00+00:00  129.267807  132.050003  132.630005  130.229996   \n",
       "...                               ...         ...         ...         ...   \n",
       "2023-01-24 00:00:00+00:00  141.201950  142.529999  143.160004  140.300003   \n",
       "2023-01-25 00:00:00+00:00  140.538177  141.860001  142.429993  138.809998   \n",
       "2023-01-26 00:00:00+00:00  142.618622  143.960007  144.250000  141.899994   \n",
       "2023-01-27 00:00:00+00:00  144.570267  145.929993  147.229996  143.080002   \n",
       "2023-01-30 00:00:00+00:00  141.667557  143.000000  145.550003  142.850006   \n",
       "\n",
       "Price                            Open     Volume  \n",
       "Ticker                           AAPL       AAPL  \n",
       "Date                                              \n",
       "2021-01-04 00:00:00+00:00  133.520004  143301900  \n",
       "2021-01-05 00:00:00+00:00  128.889999   97664900  \n",
       "2021-01-06 00:00:00+00:00  127.720001  155088000  \n",
       "2021-01-07 00:00:00+00:00  128.360001  109578200  \n",
       "2021-01-08 00:00:00+00:00  132.429993  105158200  \n",
       "...                               ...        ...  \n",
       "2023-01-24 00:00:00+00:00  140.309998   66435100  \n",
       "2023-01-25 00:00:00+00:00  140.889999   65799300  \n",
       "2023-01-26 00:00:00+00:00  143.169998   54105100  \n",
       "2023-01-27 00:00:00+00:00  143.160004   70555800  \n",
       "2023-01-30 00:00:00+00:00  144.960007   64015300  \n",
       "\n",
       "[522 rows x 6 columns]"
      ]
     },
     "execution_count": 15,
     "metadata": {},
     "output_type": "execute_result"
    }
   ],
   "source": [
    "stock_data = yf.download('AAPL', start='2021-01-01', end='2023-01-31')\n",
    "stock_data"
   ]
  },
  {
   "cell_type": "code",
   "execution_count": 16,
   "metadata": {},
   "outputs": [
    {
     "name": "stderr",
     "output_type": "stream",
     "text": [
      "/tmp/ipykernel_106825/1035353321.py:1: FutureWarning: 'M' is deprecated and will be removed in a future version, please use 'ME' instead.\n",
      "  monthly_stock_data = stock_data['Close'].resample('M').mean()\n"
     ]
    },
    {
     "data": {
      "text/html": [
       "<div>\n",
       "<style scoped>\n",
       "    .dataframe tbody tr th:only-of-type {\n",
       "        vertical-align: middle;\n",
       "    }\n",
       "\n",
       "    .dataframe tbody tr th {\n",
       "        vertical-align: top;\n",
       "    }\n",
       "\n",
       "    .dataframe thead th {\n",
       "        text-align: right;\n",
       "    }\n",
       "</style>\n",
       "<table border=\"1\" class=\"dataframe\">\n",
       "  <thead>\n",
       "    <tr style=\"text-align: right;\">\n",
       "      <th>Ticker</th>\n",
       "      <th>AAPL</th>\n",
       "    </tr>\n",
       "    <tr>\n",
       "      <th>Date</th>\n",
       "      <th></th>\n",
       "    </tr>\n",
       "  </thead>\n",
       "  <tbody>\n",
       "    <tr>\n",
       "      <th>2021-01-31 00:00:00+00:00</th>\n",
       "      <td>133.036842</td>\n",
       "    </tr>\n",
       "    <tr>\n",
       "      <th>2021-02-28 00:00:00+00:00</th>\n",
       "      <td>131.531579</td>\n",
       "    </tr>\n",
       "    <tr>\n",
       "      <th>2021-03-31 00:00:00+00:00</th>\n",
       "      <td>121.871304</td>\n",
       "    </tr>\n",
       "    <tr>\n",
       "      <th>2021-04-30 00:00:00+00:00</th>\n",
       "      <td>131.812858</td>\n",
       "    </tr>\n",
       "    <tr>\n",
       "      <th>2021-05-31 00:00:00+00:00</th>\n",
       "      <td>126.784000</td>\n",
       "    </tr>\n",
       "    <tr>\n",
       "      <th>2021-06-30 00:00:00+00:00</th>\n",
       "      <td>129.958636</td>\n",
       "    </tr>\n",
       "    <tr>\n",
       "      <th>2021-07-31 00:00:00+00:00</th>\n",
       "      <td>145.139524</td>\n",
       "    </tr>\n",
       "    <tr>\n",
       "      <th>2021-08-31 00:00:00+00:00</th>\n",
       "      <td>148.177727</td>\n",
       "    </tr>\n",
       "    <tr>\n",
       "      <th>2021-09-30 00:00:00+00:00</th>\n",
       "      <td>148.306190</td>\n",
       "    </tr>\n",
       "    <tr>\n",
       "      <th>2021-10-31 00:00:00+00:00</th>\n",
       "      <td>145.563809</td>\n",
       "    </tr>\n",
       "    <tr>\n",
       "      <th>2021-11-30 00:00:00+00:00</th>\n",
       "      <td>154.255716</td>\n",
       "    </tr>\n",
       "    <tr>\n",
       "      <th>2021-12-31 00:00:00+00:00</th>\n",
       "      <td>173.552727</td>\n",
       "    </tr>\n",
       "    <tr>\n",
       "      <th>2022-01-31 00:00:00+00:00</th>\n",
       "      <td>169.861500</td>\n",
       "    </tr>\n",
       "    <tr>\n",
       "      <th>2022-02-28 00:00:00+00:00</th>\n",
       "      <td>169.830001</td>\n",
       "    </tr>\n",
       "    <tr>\n",
       "      <th>2022-03-31 00:00:00+00:00</th>\n",
       "      <td>165.310435</td>\n",
       "    </tr>\n",
       "    <tr>\n",
       "      <th>2022-04-30 00:00:00+00:00</th>\n",
       "      <td>166.820999</td>\n",
       "    </tr>\n",
       "    <tr>\n",
       "      <th>2022-05-31 00:00:00+00:00</th>\n",
       "      <td>148.430477</td>\n",
       "    </tr>\n",
       "    <tr>\n",
       "      <th>2022-06-30 00:00:00+00:00</th>\n",
       "      <td>139.798573</td>\n",
       "    </tr>\n",
       "    <tr>\n",
       "      <th>2022-07-31 00:00:00+00:00</th>\n",
       "      <td>149.670499</td>\n",
       "    </tr>\n",
       "    <tr>\n",
       "      <th>2022-08-31 00:00:00+00:00</th>\n",
       "      <td>166.885218</td>\n",
       "    </tr>\n",
       "    <tr>\n",
       "      <th>2022-09-30 00:00:00+00:00</th>\n",
       "      <td>153.002856</td>\n",
       "    </tr>\n",
       "    <tr>\n",
       "      <th>2022-10-31 00:00:00+00:00</th>\n",
       "      <td>145.013333</td>\n",
       "    </tr>\n",
       "    <tr>\n",
       "      <th>2022-11-30 00:00:00+00:00</th>\n",
       "      <td>145.843331</td>\n",
       "    </tr>\n",
       "    <tr>\n",
       "      <th>2022-12-31 00:00:00+00:00</th>\n",
       "      <td>137.876666</td>\n",
       "    </tr>\n",
       "    <tr>\n",
       "      <th>2023-01-31 00:00:00+00:00</th>\n",
       "      <td>135.331052</td>\n",
       "    </tr>\n",
       "  </tbody>\n",
       "</table>\n",
       "</div>"
      ],
      "text/plain": [
       "Ticker                           AAPL\n",
       "Date                                 \n",
       "2021-01-31 00:00:00+00:00  133.036842\n",
       "2021-02-28 00:00:00+00:00  131.531579\n",
       "2021-03-31 00:00:00+00:00  121.871304\n",
       "2021-04-30 00:00:00+00:00  131.812858\n",
       "2021-05-31 00:00:00+00:00  126.784000\n",
       "2021-06-30 00:00:00+00:00  129.958636\n",
       "2021-07-31 00:00:00+00:00  145.139524\n",
       "2021-08-31 00:00:00+00:00  148.177727\n",
       "2021-09-30 00:00:00+00:00  148.306190\n",
       "2021-10-31 00:00:00+00:00  145.563809\n",
       "2021-11-30 00:00:00+00:00  154.255716\n",
       "2021-12-31 00:00:00+00:00  173.552727\n",
       "2022-01-31 00:00:00+00:00  169.861500\n",
       "2022-02-28 00:00:00+00:00  169.830001\n",
       "2022-03-31 00:00:00+00:00  165.310435\n",
       "2022-04-30 00:00:00+00:00  166.820999\n",
       "2022-05-31 00:00:00+00:00  148.430477\n",
       "2022-06-30 00:00:00+00:00  139.798573\n",
       "2022-07-31 00:00:00+00:00  149.670499\n",
       "2022-08-31 00:00:00+00:00  166.885218\n",
       "2022-09-30 00:00:00+00:00  153.002856\n",
       "2022-10-31 00:00:00+00:00  145.013333\n",
       "2022-11-30 00:00:00+00:00  145.843331\n",
       "2022-12-31 00:00:00+00:00  137.876666\n",
       "2023-01-31 00:00:00+00:00  135.331052"
      ]
     },
     "execution_count": 16,
     "metadata": {},
     "output_type": "execute_result"
    }
   ],
   "source": [
    "monthly_stock_data = stock_data['Close'].resample('M').mean()\n",
    "monthly_stock_data"
   ]
  },
  {
   "cell_type": "code",
   "execution_count": 18,
   "metadata": {},
   "outputs": [
    {
     "name": "stderr",
     "output_type": "stream",
     "text": [
      "/tmp/ipykernel_106825/2043343386.py:1: FutureWarning: 'H' is deprecated and will be removed in a future version, please use 'h' instead.\n",
      "  data_rng = pd.date_range(start='2023-01-01', end='2023-01-31', freq='H')\n"
     ]
    }
   ],
   "source": [
    "data_rng = pd.date_range(start='2023-01-01', end='2023-01-31', freq='H')\n",
    "temperature_data = pd.DataFrame(data_rng, columns=['Date'])"
   ]
  },
  {
   "cell_type": "code",
   "execution_count": 19,
   "metadata": {},
   "outputs": [
    {
     "data": {
      "text/html": [
       "<div>\n",
       "<style scoped>\n",
       "    .dataframe tbody tr th:only-of-type {\n",
       "        vertical-align: middle;\n",
       "    }\n",
       "\n",
       "    .dataframe tbody tr th {\n",
       "        vertical-align: top;\n",
       "    }\n",
       "\n",
       "    .dataframe thead th {\n",
       "        text-align: right;\n",
       "    }\n",
       "</style>\n",
       "<table border=\"1\" class=\"dataframe\">\n",
       "  <thead>\n",
       "    <tr style=\"text-align: right;\">\n",
       "      <th></th>\n",
       "      <th>Date</th>\n",
       "    </tr>\n",
       "  </thead>\n",
       "  <tbody>\n",
       "    <tr>\n",
       "      <th>0</th>\n",
       "      <td>2023-01-01 00:00:00</td>\n",
       "    </tr>\n",
       "    <tr>\n",
       "      <th>1</th>\n",
       "      <td>2023-01-01 01:00:00</td>\n",
       "    </tr>\n",
       "    <tr>\n",
       "      <th>2</th>\n",
       "      <td>2023-01-01 02:00:00</td>\n",
       "    </tr>\n",
       "    <tr>\n",
       "      <th>3</th>\n",
       "      <td>2023-01-01 03:00:00</td>\n",
       "    </tr>\n",
       "    <tr>\n",
       "      <th>4</th>\n",
       "      <td>2023-01-01 04:00:00</td>\n",
       "    </tr>\n",
       "    <tr>\n",
       "      <th>...</th>\n",
       "      <td>...</td>\n",
       "    </tr>\n",
       "    <tr>\n",
       "      <th>716</th>\n",
       "      <td>2023-01-30 20:00:00</td>\n",
       "    </tr>\n",
       "    <tr>\n",
       "      <th>717</th>\n",
       "      <td>2023-01-30 21:00:00</td>\n",
       "    </tr>\n",
       "    <tr>\n",
       "      <th>718</th>\n",
       "      <td>2023-01-30 22:00:00</td>\n",
       "    </tr>\n",
       "    <tr>\n",
       "      <th>719</th>\n",
       "      <td>2023-01-30 23:00:00</td>\n",
       "    </tr>\n",
       "    <tr>\n",
       "      <th>720</th>\n",
       "      <td>2023-01-31 00:00:00</td>\n",
       "    </tr>\n",
       "  </tbody>\n",
       "</table>\n",
       "<p>721 rows × 1 columns</p>\n",
       "</div>"
      ],
      "text/plain": [
       "                   Date\n",
       "0   2023-01-01 00:00:00\n",
       "1   2023-01-01 01:00:00\n",
       "2   2023-01-01 02:00:00\n",
       "3   2023-01-01 03:00:00\n",
       "4   2023-01-01 04:00:00\n",
       "..                  ...\n",
       "716 2023-01-30 20:00:00\n",
       "717 2023-01-30 21:00:00\n",
       "718 2023-01-30 22:00:00\n",
       "719 2023-01-30 23:00:00\n",
       "720 2023-01-31 00:00:00\n",
       "\n",
       "[721 rows x 1 columns]"
      ]
     },
     "execution_count": 19,
     "metadata": {},
     "output_type": "execute_result"
    }
   ],
   "source": [
    "temperature_data"
   ]
  },
  {
   "cell_type": "code",
   "execution_count": 20,
   "metadata": {},
   "outputs": [
    {
     "data": {
      "text/html": [
       "<div>\n",
       "<style scoped>\n",
       "    .dataframe tbody tr th:only-of-type {\n",
       "        vertical-align: middle;\n",
       "    }\n",
       "\n",
       "    .dataframe tbody tr th {\n",
       "        vertical-align: top;\n",
       "    }\n",
       "\n",
       "    .dataframe thead th {\n",
       "        text-align: right;\n",
       "    }\n",
       "</style>\n",
       "<table border=\"1\" class=\"dataframe\">\n",
       "  <thead>\n",
       "    <tr style=\"text-align: right;\">\n",
       "      <th></th>\n",
       "      <th>Date</th>\n",
       "      <th>temperature</th>\n",
       "    </tr>\n",
       "  </thead>\n",
       "  <tbody>\n",
       "    <tr>\n",
       "      <th>0</th>\n",
       "      <td>2023-01-01 00:00:00</td>\n",
       "      <td>20</td>\n",
       "    </tr>\n",
       "    <tr>\n",
       "      <th>1</th>\n",
       "      <td>2023-01-01 01:00:00</td>\n",
       "      <td>21</td>\n",
       "    </tr>\n",
       "    <tr>\n",
       "      <th>2</th>\n",
       "      <td>2023-01-01 02:00:00</td>\n",
       "      <td>22</td>\n",
       "    </tr>\n",
       "    <tr>\n",
       "      <th>3</th>\n",
       "      <td>2023-01-01 03:00:00</td>\n",
       "      <td>23</td>\n",
       "    </tr>\n",
       "    <tr>\n",
       "      <th>4</th>\n",
       "      <td>2023-01-01 04:00:00</td>\n",
       "      <td>24</td>\n",
       "    </tr>\n",
       "    <tr>\n",
       "      <th>...</th>\n",
       "      <td>...</td>\n",
       "      <td>...</td>\n",
       "    </tr>\n",
       "    <tr>\n",
       "      <th>716</th>\n",
       "      <td>2023-01-30 20:00:00</td>\n",
       "      <td>21</td>\n",
       "    </tr>\n",
       "    <tr>\n",
       "      <th>717</th>\n",
       "      <td>2023-01-30 21:00:00</td>\n",
       "      <td>22</td>\n",
       "    </tr>\n",
       "    <tr>\n",
       "      <th>718</th>\n",
       "      <td>2023-01-30 22:00:00</td>\n",
       "      <td>23</td>\n",
       "    </tr>\n",
       "    <tr>\n",
       "      <th>719</th>\n",
       "      <td>2023-01-30 23:00:00</td>\n",
       "      <td>24</td>\n",
       "    </tr>\n",
       "    <tr>\n",
       "      <th>720</th>\n",
       "      <td>2023-01-31 00:00:00</td>\n",
       "      <td>20</td>\n",
       "    </tr>\n",
       "  </tbody>\n",
       "</table>\n",
       "<p>721 rows × 2 columns</p>\n",
       "</div>"
      ],
      "text/plain": [
       "                   Date  temperature\n",
       "0   2023-01-01 00:00:00           20\n",
       "1   2023-01-01 01:00:00           21\n",
       "2   2023-01-01 02:00:00           22\n",
       "3   2023-01-01 03:00:00           23\n",
       "4   2023-01-01 04:00:00           24\n",
       "..                  ...          ...\n",
       "716 2023-01-30 20:00:00           21\n",
       "717 2023-01-30 21:00:00           22\n",
       "718 2023-01-30 22:00:00           23\n",
       "719 2023-01-30 23:00:00           24\n",
       "720 2023-01-31 00:00:00           20\n",
       "\n",
       "[721 rows x 2 columns]"
      ]
     },
     "execution_count": 20,
     "metadata": {},
     "output_type": "execute_result"
    }
   ],
   "source": [
    "import numpy as np\n",
    "temperature_value = [20, 21, 22, 23, 24] * (len(data_rng) // 5)\n",
    "\n",
    "temperature_data['temperature'] = np.resize(temperature_value, len(data_rng))\n",
    "temperature_data"
   ]
  },
  {
   "cell_type": "code",
   "execution_count": 21,
   "metadata": {},
   "outputs": [
    {
     "data": {
      "text/html": [
       "<div>\n",
       "<style scoped>\n",
       "    .dataframe tbody tr th:only-of-type {\n",
       "        vertical-align: middle;\n",
       "    }\n",
       "\n",
       "    .dataframe tbody tr th {\n",
       "        vertical-align: top;\n",
       "    }\n",
       "\n",
       "    .dataframe thead th {\n",
       "        text-align: right;\n",
       "    }\n",
       "</style>\n",
       "<table border=\"1\" class=\"dataframe\">\n",
       "  <thead>\n",
       "    <tr style=\"text-align: right;\">\n",
       "      <th></th>\n",
       "      <th>temperature</th>\n",
       "    </tr>\n",
       "    <tr>\n",
       "      <th>Date</th>\n",
       "      <th></th>\n",
       "    </tr>\n",
       "  </thead>\n",
       "  <tbody>\n",
       "    <tr>\n",
       "      <th>2023-01-01</th>\n",
       "      <td>21.916667</td>\n",
       "    </tr>\n",
       "    <tr>\n",
       "      <th>2023-01-02</th>\n",
       "      <td>21.958333</td>\n",
       "    </tr>\n",
       "    <tr>\n",
       "      <th>2023-01-03</th>\n",
       "      <td>22.000000</td>\n",
       "    </tr>\n",
       "    <tr>\n",
       "      <th>2023-01-04</th>\n",
       "      <td>22.041667</td>\n",
       "    </tr>\n",
       "    <tr>\n",
       "      <th>2023-01-05</th>\n",
       "      <td>22.083333</td>\n",
       "    </tr>\n",
       "    <tr>\n",
       "      <th>2023-01-06</th>\n",
       "      <td>21.916667</td>\n",
       "    </tr>\n",
       "    <tr>\n",
       "      <th>2023-01-07</th>\n",
       "      <td>21.958333</td>\n",
       "    </tr>\n",
       "    <tr>\n",
       "      <th>2023-01-08</th>\n",
       "      <td>22.000000</td>\n",
       "    </tr>\n",
       "    <tr>\n",
       "      <th>2023-01-09</th>\n",
       "      <td>22.041667</td>\n",
       "    </tr>\n",
       "    <tr>\n",
       "      <th>2023-01-10</th>\n",
       "      <td>22.083333</td>\n",
       "    </tr>\n",
       "    <tr>\n",
       "      <th>2023-01-11</th>\n",
       "      <td>21.916667</td>\n",
       "    </tr>\n",
       "    <tr>\n",
       "      <th>2023-01-12</th>\n",
       "      <td>21.958333</td>\n",
       "    </tr>\n",
       "    <tr>\n",
       "      <th>2023-01-13</th>\n",
       "      <td>22.000000</td>\n",
       "    </tr>\n",
       "    <tr>\n",
       "      <th>2023-01-14</th>\n",
       "      <td>22.041667</td>\n",
       "    </tr>\n",
       "    <tr>\n",
       "      <th>2023-01-15</th>\n",
       "      <td>22.083333</td>\n",
       "    </tr>\n",
       "    <tr>\n",
       "      <th>2023-01-16</th>\n",
       "      <td>21.916667</td>\n",
       "    </tr>\n",
       "    <tr>\n",
       "      <th>2023-01-17</th>\n",
       "      <td>21.958333</td>\n",
       "    </tr>\n",
       "    <tr>\n",
       "      <th>2023-01-18</th>\n",
       "      <td>22.000000</td>\n",
       "    </tr>\n",
       "    <tr>\n",
       "      <th>2023-01-19</th>\n",
       "      <td>22.041667</td>\n",
       "    </tr>\n",
       "    <tr>\n",
       "      <th>2023-01-20</th>\n",
       "      <td>22.083333</td>\n",
       "    </tr>\n",
       "    <tr>\n",
       "      <th>2023-01-21</th>\n",
       "      <td>21.916667</td>\n",
       "    </tr>\n",
       "    <tr>\n",
       "      <th>2023-01-22</th>\n",
       "      <td>21.958333</td>\n",
       "    </tr>\n",
       "    <tr>\n",
       "      <th>2023-01-23</th>\n",
       "      <td>22.000000</td>\n",
       "    </tr>\n",
       "    <tr>\n",
       "      <th>2023-01-24</th>\n",
       "      <td>22.041667</td>\n",
       "    </tr>\n",
       "    <tr>\n",
       "      <th>2023-01-25</th>\n",
       "      <td>22.083333</td>\n",
       "    </tr>\n",
       "    <tr>\n",
       "      <th>2023-01-26</th>\n",
       "      <td>21.916667</td>\n",
       "    </tr>\n",
       "    <tr>\n",
       "      <th>2023-01-27</th>\n",
       "      <td>21.958333</td>\n",
       "    </tr>\n",
       "    <tr>\n",
       "      <th>2023-01-28</th>\n",
       "      <td>22.000000</td>\n",
       "    </tr>\n",
       "    <tr>\n",
       "      <th>2023-01-29</th>\n",
       "      <td>22.041667</td>\n",
       "    </tr>\n",
       "    <tr>\n",
       "      <th>2023-01-30</th>\n",
       "      <td>22.083333</td>\n",
       "    </tr>\n",
       "    <tr>\n",
       "      <th>2023-01-31</th>\n",
       "      <td>20.000000</td>\n",
       "    </tr>\n",
       "  </tbody>\n",
       "</table>\n",
       "</div>"
      ],
      "text/plain": [
       "            temperature\n",
       "Date                   \n",
       "2023-01-01    21.916667\n",
       "2023-01-02    21.958333\n",
       "2023-01-03    22.000000\n",
       "2023-01-04    22.041667\n",
       "2023-01-05    22.083333\n",
       "2023-01-06    21.916667\n",
       "2023-01-07    21.958333\n",
       "2023-01-08    22.000000\n",
       "2023-01-09    22.041667\n",
       "2023-01-10    22.083333\n",
       "2023-01-11    21.916667\n",
       "2023-01-12    21.958333\n",
       "2023-01-13    22.000000\n",
       "2023-01-14    22.041667\n",
       "2023-01-15    22.083333\n",
       "2023-01-16    21.916667\n",
       "2023-01-17    21.958333\n",
       "2023-01-18    22.000000\n",
       "2023-01-19    22.041667\n",
       "2023-01-20    22.083333\n",
       "2023-01-21    21.916667\n",
       "2023-01-22    21.958333\n",
       "2023-01-23    22.000000\n",
       "2023-01-24    22.041667\n",
       "2023-01-25    22.083333\n",
       "2023-01-26    21.916667\n",
       "2023-01-27    21.958333\n",
       "2023-01-28    22.000000\n",
       "2023-01-29    22.041667\n",
       "2023-01-30    22.083333\n",
       "2023-01-31    20.000000"
      ]
     },
     "execution_count": 21,
     "metadata": {},
     "output_type": "execute_result"
    }
   ],
   "source": [
    "daily_avg_temperature = temperature_data.resample('D', on='Date').mean()\n",
    "daily_avg_temperature"
   ]
  },
  {
   "cell_type": "code",
   "execution_count": null,
   "metadata": {},
   "outputs": [],
   "source": []
  }
 ],
 "metadata": {
  "kernelspec": {
   "display_name": "Python 3",
   "language": "python",
   "name": "python3"
  },
  "language_info": {
   "codemirror_mode": {
    "name": "ipython",
    "version": 3
   },
   "file_extension": ".py",
   "mimetype": "text/x-python",
   "name": "python",
   "nbconvert_exporter": "python",
   "pygments_lexer": "ipython3",
   "version": "3.12.3"
  }
 },
 "nbformat": 4,
 "nbformat_minor": 2
}
