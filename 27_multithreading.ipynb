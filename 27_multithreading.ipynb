{
 "cells": [
  {
   "cell_type": "markdown",
   "metadata": {},
   "source": [
    "# A process is an instance of a computer program\n",
    "# executable progeam, data, execution context\n",
    "# 4 processor parallely >> multiprocessing\n",
    "# multiple theads in processor / core >> multi threading"
   ]
  },
  {
   "cell_type": "code",
   "execution_count": 1,
   "metadata": {},
   "outputs": [
    {
     "name": "stdout",
     "output_type": "stream",
     "text": [
      "do something\n",
      "sleep for 1 sec\n",
      "done with sleeping\n",
      "The program finished in 1.0 seconds.\n"
     ]
    }
   ],
   "source": [
    "import time\n",
    "\n",
    "start = time.perf_counter()\n",
    "\n",
    "def test_func():\n",
    "    print(\"do something\")\n",
    "    print(\"sleep for 1 sec\")\n",
    "    time.sleep(1)\n",
    "    print(\"done with sleeping\")\n",
    "    \n",
    "test_func()\n",
    "\n",
    "end = time.perf_counter()\n",
    "\n",
    "print(f\"The program finished in {round(end - start, 2)} seconds.\")"
   ]
  },
  {
   "cell_type": "code",
   "execution_count": 2,
   "metadata": {},
   "outputs": [
    {
     "name": "stdout",
     "output_type": "stream",
     "text": [
      "do something\n",
      "sleep for 1 sec\n",
      "done with sleeping\n",
      "do something\n",
      "sleep for 1 sec\n",
      "done with sleeping\n",
      "The program finished in 2.0 seconds.\n"
     ]
    }
   ],
   "source": [
    "import time\n",
    "\n",
    "start = time.perf_counter()\n",
    "\n",
    "def test_func():\n",
    "    print(\"do something\")\n",
    "    print(\"sleep for 1 sec\")\n",
    "    time.sleep(1)\n",
    "    print(\"done with sleeping\")\n",
    "    \n",
    "test_func()\n",
    "test_func()\n",
    "\n",
    "end = time.perf_counter()\n",
    "\n",
    "print(f\"The program finished in {round(end - start, 2)} seconds.\")"
   ]
  },
  {
   "cell_type": "code",
   "execution_count": 6,
   "metadata": {},
   "outputs": [
    {
     "name": "stdout",
     "output_type": "stream",
     "text": [
      "do something\n",
      "sleep for 5 sec\n",
      "do something\n",
      "sleep for 5 sec\n",
      "done with sleeping\n",
      "done with sleeping\n",
      "The program finished in 5.0 seconds.\n"
     ]
    }
   ],
   "source": [
    "import time\n",
    "import threading\n",
    "\n",
    "start = time.perf_counter()\n",
    "\n",
    "def test_func():\n",
    "    print(\"do something\")\n",
    "    print(\"sleep for 5 sec\")\n",
    "    time.sleep(5)\n",
    "    print(\"done with sleeping\")\n",
    "    \n",
    "t1 = threading.Thread(target=test_func)\n",
    "t2 = threading.Thread(target=test_func)\n",
    "\n",
    "t1.start() # to start the threading\n",
    "t2.start()\n",
    "\n",
    "t1.join() # in order to first execute the threads and then the execution of main program\n",
    "t2.join()\n",
    "\n",
    "end = time.perf_counter()\n",
    "\n",
    "print(f\"The program finished in {round(end - start, 2)} seconds.\")"
   ]
  },
  {
   "cell_type": "code",
   "execution_count": 7,
   "metadata": {},
   "outputs": [
    {
     "name": "stdout",
     "output_type": "stream",
     "text": [
      "do something\n",
      "sleep for 5 sec\n",
      "do something\n",
      "sleep for 5 sec\n",
      "do something\n",
      "sleep for 5 sec\n",
      "do something\n",
      "sleep for 5 sec\n",
      "do something\n",
      "sleep for 5 sec\n",
      "do something\n",
      "sleep for 5 sec\n",
      "do something\n",
      "sleep for 5 sec\n",
      "do something\n",
      "sleep for 5 sec\n",
      "do something\n",
      "sleep for 5 sec\n",
      "do something\n",
      "sleep for 5 sec\n",
      "done with sleepingdone with sleeping\n",
      "\n",
      "done with sleeping\n",
      "done with sleeping\n",
      "done with sleeping\n",
      "done with sleeping\n",
      "done with sleeping\n",
      "done with sleeping\n",
      "done with sleeping\n",
      "done with sleeping\n",
      "The program finished in 5.0 seconds.\n"
     ]
    }
   ],
   "source": [
    "import time\n",
    "import threading\n",
    "\n",
    "start = time.perf_counter()\n",
    "\n",
    "def test_func():\n",
    "    print(\"do something\")\n",
    "    print(\"sleep for 1 sec\")\n",
    "    time.sleep(1)\n",
    "    print(\"done with sleeping\")\n",
    "    \n",
    "threads = []\n",
    "    \n",
    "for i in range(10):\n",
    "    t = threading.Thread(target=test_func)\n",
    "    t.start()\n",
    "    threads.append(t)\n",
    "    \n",
    "for thread in threads:\n",
    "    thread.join()\n",
    "\n",
    "end = time.perf_counter()\n",
    "\n",
    "print(f\"The program finished in {round(end - start, 2)} seconds.\")\n"
   ]
  },
  {
   "cell_type": "code",
   "execution_count": 9,
   "metadata": {},
   "outputs": [
    {
     "name": "stdout",
     "output_type": "stream",
     "text": [
      "do something\n",
      "sleep for 2 sec\n",
      "do something\n",
      "sleep for 2 sec\n",
      "do something\n",
      "sleep for 2 sec\n",
      "do something\n",
      "sleep for 2 sec\n",
      "do something\n",
      "sleep for 2 sec\n",
      "do something\n",
      "sleep for 2 sec\n",
      "do something\n",
      "sleep for 2 sec\n",
      "do something\n",
      "sleep for 2 sec\n",
      "do something\n",
      "sleep for 2 sec\n",
      "do something\n",
      "sleep for 2 sec\n",
      "done with sleeping\n",
      "done with sleeping\n",
      "done with sleeping\n",
      "done with sleeping\n",
      "done with sleeping\n",
      "done with sleeping\n",
      "done with sleeping\n",
      "done with sleeping\n",
      "done with sleeping\n",
      "done with sleeping\n",
      "The program finished in 2.0 seconds.\n"
     ]
    }
   ],
   "source": [
    "import time\n",
    "import threading\n",
    "\n",
    "start = time.perf_counter()\n",
    "\n",
    "def test_func(args):\n",
    "    print(\"do something\")\n",
    "    print(f\"sleep for {args} sec\")\n",
    "    time.sleep(args)\n",
    "    print(\"done with sleeping\")\n",
    "    \n",
    "threads = []\n",
    "    \n",
    "for i in range(10):\n",
    "    t = threading.Thread(target=test_func, args=[2])\n",
    "    t.start()\n",
    "    threads.append(t)\n",
    "    \n",
    "for thread in threads:\n",
    "    thread.join()\n",
    "\n",
    "end = time.perf_counter()\n",
    "\n",
    "print(f\"The program finished in {round(end - start, 2)} seconds.\")\n"
   ]
  },
  {
   "cell_type": "markdown",
   "metadata": {},
   "source": [
    "# Input / output bound task >> performance can be improved using multithreading >> reading writing files, network communication, database query"
   ]
  },
  {
   "cell_type": "code",
   "execution_count": 10,
   "metadata": {},
   "outputs": [],
   "source": [
    "url_list = [\n",
    "    'https://github.com/itsfoss/text-files/blob/master/agatha_complete.txt',\n",
    "    'https://github.com/itsfoss/text-files/blob/master/agatha.txt',\n",
    "    'https://github.com/itsfoss/text-files/blob/master/sample_log_file.txt',\n",
    "    'https://github.com/itsfoss/text-files/blob/master/sherlock.txt'\n",
    "]"
   ]
  },
  {
   "cell_type": "code",
   "execution_count": 11,
   "metadata": {},
   "outputs": [
    {
     "name": "stdout",
     "output_type": "stream",
     "text": [
      "The program finished in 1.94 seconds.\n"
     ]
    }
   ],
   "source": [
    "import time\n",
    "import threading\n",
    "import urllib.request\n",
    "\n",
    "start = time.perf_counter()\n",
    "\n",
    "url_list = [\n",
    "    'https://github.com/itsfoss/text-files/blob/master/agatha_complete.txt',\n",
    "    'https://github.com/itsfoss/text-files/blob/master/agatha.txt',\n",
    "    'https://github.com/itsfoss/text-files/blob/master/sample_log_file.txt',\n",
    "    'https://github.com/itsfoss/text-files/blob/master/sherlock.txt'\n",
    "]\n",
    "\n",
    "data_list = [\"data1.txt\", \"data2.txt\", \"data3.txt\", \"data4.txt\"]\n",
    "\n",
    "def file_download(url, filename):\n",
    "    urllib.request.urlretrieve(url, filename)\n",
    "    \n",
    "threads = []\n",
    "    \n",
    "for i in range(len(url_list)):\n",
    "    t = threading.Thread(target=file_download, args=(url_list[i], data_list[i]))\n",
    "    t.start()\n",
    "    threads.append(t)\n",
    "    \n",
    "for thread in threads:\n",
    "    thread.join()\n",
    "\n",
    "end = time.perf_counter()\n",
    "\n",
    "print(f\"The program finished in {round(end - start, 2)} seconds.\")"
   ]
  },
  {
   "cell_type": "code",
   "execution_count": 12,
   "metadata": {},
   "outputs": [
    {
     "name": "stdout",
     "output_type": "stream",
     "text": [
      "The program finished in 1.57 seconds.\n"
     ]
    }
   ],
   "source": [
    "import time\n",
    "import concurrent.futures\n",
    "import urllib.request\n",
    "\n",
    "start = time.perf_counter()\n",
    "\n",
    "url_list = [\n",
    "    'https://github.com/itsfoss/text-files/blob/master/agatha_complete.txt',\n",
    "    'https://github.com/itsfoss/text-files/blob/master/agatha.txt',\n",
    "    'https://github.com/itsfoss/text-files/blob/master/sample_log_file.txt',\n",
    "    'https://github.com/itsfoss/text-files/blob/master/sherlock.txt'\n",
    "]\n",
    "\n",
    "data_list = [\"data11.txt\", \"data22.txt\", \"data33.txt\", \"data44.txt\"]\n",
    "\n",
    "def file_download(url, filename):\n",
    "    urllib.request.urlretrieve(url, filename)\n",
    "    \n",
    "with concurrent.futures.ThreadPoolExecutor() as executor:\n",
    "    executor.map(file_download, url_list, data_list)\n",
    "\n",
    "end = time.perf_counter()\n",
    "\n",
    "print(f\"The program finished in {round(end - start, 2)} seconds.\")"
   ]
  },
  {
   "cell_type": "markdown",
   "metadata": {},
   "source": [
    "# Shared variable across all the thread"
   ]
  },
  {
   "cell_type": "code",
   "execution_count": 15,
   "metadata": {},
   "outputs": [
    {
     "name": "stdout",
     "output_type": "stream",
     "text": [
      "Thread 1: incremented shared counter to 1\n",
      "Thread 2: incremented shared counter to 2\n",
      "Thread 3: incremented shared counter to 3\n",
      "Thread 4: incremented shared counter to 4\n",
      "Thread 5: incremented shared counter to 5\n",
      "Thread 6: incremented shared counter to 6\n",
      "The program finished in 6.0 seconds.\n"
     ]
    }
   ],
   "source": [
    "start = time.perf_counter()\n",
    "\n",
    "shared_counter = 0\n",
    "counter_lock = threading.Lock()\n",
    "\n",
    "def increment_shared_counter(x):\n",
    "    global shared_counter\n",
    "    with counter_lock:\n",
    "        shared_counter = shared_counter + 1\n",
    "        print(f\"Thread {x}: incremented shared counter to {shared_counter}\")\n",
    "        time.sleep(1)\n",
    "        \n",
    "threads = [threading.Thread(target=increment_shared_counter, args=(i,)) for i in [1, 2, 3, 4, 5, 6]]\n",
    "\n",
    "for thread in threads:\n",
    "    thread.start()\n",
    "    \n",
    "for thread in threads:\n",
    "    thread.join()\n",
    "    \n",
    "end = time.perf_counter()\n",
    "\n",
    "print(f\"The program finished in {round(end - start, 2)} seconds.\")"
   ]
  },
  {
   "cell_type": "code",
   "execution_count": 16,
   "metadata": {},
   "outputs": [
    {
     "name": "stdout",
     "output_type": "stream",
     "text": [
      "Thread 1: incremented shared counter to 1\n",
      "Thread 2: incremented shared counter to 2\n",
      "Thread 3: incremented shared counter to 3\n",
      "Thread 4: incremented shared counter to 4\n",
      "Thread 5: incremented shared counter to 5\n",
      "Thread 6: incremented shared counter to 6\n",
      "The program finished in 6.0 seconds.\n"
     ]
    }
   ],
   "source": [
    "start = time.perf_counter()\n",
    "\n",
    "shared_counter = 0\n",
    "counter_lock = threading.Lock()\n",
    "\n",
    "def increment_shared_counter(x):\n",
    "    global shared_counter\n",
    "    with counter_lock:\n",
    "        shared_counter = shared_counter + 1\n",
    "        print(f\"Thread {x}: incremented shared counter to {shared_counter}\")\n",
    "        time.sleep(1)\n",
    "        \n",
    "        \n",
    "with concurrent.futures.ThreadPoolExecutor() as executor:\n",
    "    thread_args = [1, 2, 3, 4, 5, 6]\n",
    "    executor.map(increment_shared_counter, thread_args)\n",
    "        \n",
    "end = time.perf_counter()\n",
    "\n",
    "print(f\"The program finished in {round(end - start, 2)} seconds.\")"
   ]
  }
 ],
 "metadata": {
  "kernelspec": {
   "display_name": "Python 3",
   "language": "python",
   "name": "python3"
  },
  "language_info": {
   "codemirror_mode": {
    "name": "ipython",
    "version": 3
   },
   "file_extension": ".py",
   "mimetype": "text/x-python",
   "name": "python",
   "nbconvert_exporter": "python",
   "pygments_lexer": "ipython3",
   "version": "3.12.3"
  }
 },
 "nbformat": 4,
 "nbformat_minor": 2
}
