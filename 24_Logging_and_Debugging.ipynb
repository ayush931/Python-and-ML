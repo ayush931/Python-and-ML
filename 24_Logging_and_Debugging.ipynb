{
 "cells": [
  {
   "cell_type": "code",
   "execution_count": 2,
   "metadata": {},
   "outputs": [
    {
     "name": "stdout",
     "output_type": "stream",
     "text": [
      "The current number is 0\n",
      "The current number is 1\n",
      "The current number is 2\n",
      "The current number is 3\n",
      "The current number is 4\n",
      "The current number is 5\n",
      "The current number is 6\n",
      "The current number is 7\n",
      "The current number is 8\n",
      "The current number is 9\n"
     ]
    }
   ],
   "source": [
    "for i in range(10):\n",
    "    print(\"The current number is\", i)"
   ]
  },
  {
   "cell_type": "markdown",
   "metadata": {},
   "source": [
    "# Logging >> keep track \n",
    "# Logging module keep tracks of events in a software run\n",
    "# Logging supports different level of loggins which helps to categories messages based on their severity."
   ]
  },
  {
   "cell_type": "code",
   "execution_count": 1,
   "metadata": {},
   "outputs": [],
   "source": [
    "import logging\n",
    "\n",
    "logging.basicConfig(filename=\"test.log\", level=logging.INFO)"
   ]
  },
  {
   "cell_type": "code",
   "execution_count": 2,
   "metadata": {},
   "outputs": [],
   "source": [
    "logging.info(\"This is my normal information about the software run\")\n",
    "logging.error(\"This is the error message\")\n",
    "logging.warning(\"This is my warning\")\n",
    "logging.debug(\"This is my message for debugging\")\n",
    "logging.critical(\"This is critical message\")\n",
    "logging.shutdown()"
   ]
  },
  {
   "cell_type": "code",
   "execution_count": 3,
   "metadata": {},
   "outputs": [
    {
     "data": {
      "text/plain": [
       "'\\n\\n1. DEBUG >> lowest level, Debugging message and variable\\n2. INFO >> things are working as expected\\n3. WARNING >> potential issues\\n4. ERROR >> serious problem\\n5. CRITICAL >> termination of programme\\n\\n'"
      ]
     },
     "execution_count": 3,
     "metadata": {},
     "output_type": "execute_result"
    }
   ],
   "source": [
    "'''\n",
    "\n",
    "1. DEBUG >> lowest level, Debugging message and variable\n",
    "2. INFO >> things are working as expected\n",
    "3. WARNING >> potential issues\n",
    "4. ERROR >> serious problem\n",
    "5. CRITICAL >> termination of programme\n",
    "\n",
    "'''"
   ]
  },
  {
   "cell_type": "code",
   "execution_count": 1,
   "metadata": {},
   "outputs": [],
   "source": [
    "import logging\n",
    "\n",
    "logging.basicConfig(filename=\"new.log\", level=logging.DEBUG, format='%(asctime)s %(message)s')"
   ]
  },
  {
   "cell_type": "code",
   "execution_count": 2,
   "metadata": {},
   "outputs": [],
   "source": [
    "logging.debug(\"This message is for debugging\")\n",
    "logging.info(\"This is my info message\")\n",
    "logging.warning(\"This is my warning message\")\n",
    "logging.shutdown()"
   ]
  },
  {
   "cell_type": "code",
   "execution_count": 1,
   "metadata": {},
   "outputs": [],
   "source": [
    "import logging\n",
    "\n",
    "logging.basicConfig(filename=\"new1.log\", level=logging.DEBUG, format='%(asctime)s %(levelname)s %(message)s')"
   ]
  },
  {
   "cell_type": "code",
   "execution_count": 2,
   "metadata": {},
   "outputs": [],
   "source": [
    "logging.debug(\"debugging message\")\n",
    "logging.info(\"info message\")\n",
    "logging.shutdown()"
   ]
  },
  {
   "cell_type": "code",
   "execution_count": 1,
   "metadata": {},
   "outputs": [],
   "source": [
    "import logging\n",
    "\n",
    "logging.basicConfig(filename=\"programme.log\", level=logging.DEBUG, format='%(asctime)s %(levelname)s %(message)s')"
   ]
  },
  {
   "cell_type": "code",
   "execution_count": 3,
   "metadata": {},
   "outputs": [],
   "source": [
    "l = [1, \"hello\", [2, \"world\"], 3, [\"python\", 4]]\n",
    "\n",
    "# Write a programme to separate the integer and string in two list "
   ]
  },
  {
   "cell_type": "code",
   "execution_count": 4,
   "metadata": {},
   "outputs": [],
   "source": [
    "l1_int = []\n",
    "l1_str = []\n",
    "\n",
    "for i in l:\n",
    "    logging.info(f\"Processing each element: {i}\")\n",
    "    if type (i) == list:\n",
    "        for j in i:\n",
    "            logging.info(f\"Processing sublist element: {j}\")\n",
    "            if type (j) == int:\n",
    "                l1_int.append(j)\n",
    "    elif type(i) == int:\n",
    "        l1_int.append(i)\n",
    "    else:\n",
    "        l1_str.append(i)\n",
    "        \n",
    "logging.info(f\"The final result is: {l1_int}, {l1_str}\")\n",
    "logging.shutdown()"
   ]
  }
 ],
 "metadata": {
  "kernelspec": {
   "display_name": "Python 3",
   "language": "python",
   "name": "python3"
  },
  "language_info": {
   "codemirror_mode": {
    "name": "ipython",
    "version": 3
   },
   "file_extension": ".py",
   "mimetype": "text/x-python",
   "name": "python",
   "nbconvert_exporter": "python",
   "pygments_lexer": "ipython3",
   "version": "3.12.3"
  }
 },
 "nbformat": 4,
 "nbformat_minor": 2
}
