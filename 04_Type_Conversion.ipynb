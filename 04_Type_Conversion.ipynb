{
 "cells": [
  {
   "cell_type": "markdown",
   "metadata": {},
   "source": [
    "# Type Conversion :- The process of changing the data type of a value or object in Python."
   ]
  },
  {
   "cell_type": "code",
   "execution_count": 1,
   "metadata": {},
   "outputs": [
    {
     "name": "stdout",
     "output_type": "stream",
     "text": [
      "<class 'str'>\n",
      "<class 'int'>\n"
     ]
    }
   ],
   "source": [
    "a = \"5\"\n",
    "print (type(a))\n",
    "\n",
    "b = 2\n",
    "print(type(b))"
   ]
  },
  {
   "cell_type": "markdown",
   "metadata": {},
   "source": [
    "# Type Casting :- implicit and explicit\n",
    "# Implicit type conversion"
   ]
  },
  {
   "cell_type": "code",
   "execution_count": 2,
   "metadata": {},
   "outputs": [
    {
     "name": "stdout",
     "output_type": "stream",
     "text": [
      "<class 'int'>\n",
      "5.5\n",
      "ramshyam\n",
      "5shyam\n"
     ]
    }
   ],
   "source": [
    "x = 2\n",
    "print (type(x))\n",
    "\n",
    "print (2 + 3.5)\n",
    "\n",
    "print (\"ram\" + \"shyam\")\n",
    "\n",
    "print (a + \"shyam\")"
   ]
  },
  {
   "cell_type": "markdown",
   "metadata": {},
   "source": [
    "# Explicit type conversion :- Convert data type using inbuilt function\n",
    "\n",
    "# String\n",
    "# int\n",
    "# float\n",
    "# boolean"
   ]
  },
  {
   "cell_type": "code",
   "execution_count": 3,
   "metadata": {},
   "outputs": [
    {
     "name": "stdout",
     "output_type": "stream",
     "text": [
      "22\n",
      "<class 'int'>\n"
     ]
    }
   ],
   "source": [
    "x = 22.5\n",
    "y = int(x)\n",
    "print (y)\n",
    "print (type(y))"
   ]
  },
  {
   "cell_type": "code",
   "execution_count": 4,
   "metadata": {},
   "outputs": [
    {
     "name": "stdout",
     "output_type": "stream",
     "text": [
      "33\n",
      "<class 'int'>\n"
     ]
    }
   ],
   "source": [
    "a = \"33\"\n",
    "b = int (a)\n",
    "print (b)\n",
    "print (type(b))"
   ]
  },
  {
   "cell_type": "code",
   "execution_count": 5,
   "metadata": {},
   "outputs": [
    {
     "name": "stdout",
     "output_type": "stream",
     "text": [
      "True\n",
      "<class 'bool'>\n"
     ]
    }
   ],
   "source": [
    "x = 1\n",
    "y = bool(x)\n",
    "print (y)\n",
    "print (type(y))"
   ]
  }
 ],
 "metadata": {
  "kernelspec": {
   "display_name": "Python 3",
   "language": "python",
   "name": "python3"
  },
  "language_info": {
   "codemirror_mode": {
    "name": "ipython",
    "version": 3
   },
   "file_extension": ".py",
   "mimetype": "text/x-python",
   "name": "python",
   "nbconvert_exporter": "python",
   "pygments_lexer": "ipython3",
   "version": "3.12.2"
  }
 },
 "nbformat": 4,
 "nbformat_minor": 2
}
