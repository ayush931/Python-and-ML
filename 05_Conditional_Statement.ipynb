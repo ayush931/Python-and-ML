{
 "cells": [
  {
   "cell_type": "markdown",
   "metadata": {},
   "source": [
    "# Conditional statement :- Coding your decision based on some condition"
   ]
  },
  {
   "cell_type": "code",
   "execution_count": 2,
   "metadata": {},
   "outputs": [
    {
     "name": "stdout",
     "output_type": "stream",
     "text": [
      "The no is greater than 100\n"
     ]
    }
   ],
   "source": [
    "a = 200\n",
    "if a > 100:\n",
    "    print(\"The no is greater than 100\")"
   ]
  },
  {
   "cell_type": "code",
   "execution_count": 3,
   "metadata": {},
   "outputs": [
    {
     "name": "stdout",
     "output_type": "stream",
     "text": [
      "I will not play cricket\n"
     ]
    }
   ],
   "source": [
    "weather = \"rainy\"\n",
    "if weather == \"rainy\":\n",
    "    print(\"I will not play cricket\")"
   ]
  },
  {
   "cell_type": "code",
   "execution_count": 4,
   "metadata": {},
   "outputs": [
    {
     "name": "stdout",
     "output_type": "stream",
     "text": [
      "I am playing cricket\n"
     ]
    }
   ],
   "source": [
    "is_ds_course = False\n",
    "if is_ds_course:\n",
    "    print(\"I am studying this course\")\n",
    "else:\n",
    "    print(\"I am playing cricket\")"
   ]
  },
  {
   "cell_type": "markdown",
   "metadata": {},
   "source": [
    "# To check if a number is even"
   ]
  },
  {
   "cell_type": "code",
   "execution_count": 5,
   "metadata": {},
   "outputs": [
    {
     "name": "stdout",
     "output_type": "stream",
     "text": [
      "Odd\n"
     ]
    }
   ],
   "source": [
    "number = 7\n",
    "if number % 2 == 0:\n",
    "    print(\"Even\")\n",
    "else:\n",
    "    print(\"Odd\")"
   ]
  },
  {
   "cell_type": "markdown",
   "metadata": {},
   "source": [
    "# If-elif-else"
   ]
  },
  {
   "cell_type": "code",
   "execution_count": 6,
   "metadata": {},
   "outputs": [
    {
     "name": "stdout",
     "output_type": "stream",
     "text": [
      "Will execute if a is lesser than 100\n"
     ]
    }
   ],
   "source": [
    "a = 10\n",
    "if a > 100:\n",
    "    print(\"Will execute if a is greater than 100\")\n",
    "elif a < 100:\n",
    "    print(\"Will execute if a is lesser than 100\")\n",
    "else:\n",
    "    print(\"The number is equals to 100\")"
   ]
  },
  {
   "cell_type": "code",
   "execution_count": 7,
   "metadata": {},
   "outputs": [
    {
     "name": "stdout",
     "output_type": "stream",
     "text": [
      "Grade B\n"
     ]
    }
   ],
   "source": [
    "score = 80\n",
    "if score >= 90:\n",
    "    print(\"Grade A\")\n",
    "elif (80 <= score <= 90):\n",
    "    print(\"Grade B\")\n",
    "else:\n",
    "    print(\"Grade less than B\")"
   ]
  },
  {
   "cell_type": "markdown",
   "metadata": {},
   "source": [
    "# Nested if else condition"
   ]
  },
  {
   "cell_type": "code",
   "execution_count": 8,
   "metadata": {},
   "outputs": [
    {
     "name": "stdout",
     "output_type": "stream",
     "text": [
      "X is greater than 5 but y is not\n"
     ]
    }
   ],
   "source": [
    "x = 10\n",
    "y = 5\n",
    "\n",
    "if x > 5:\n",
    "    if y > 5:\n",
    "        print(\"Both x and y is greater than 5\")\n",
    "    else:\n",
    "        print(\"X is greater than 5 but y is not\")\n",
    "else:\n",
    "    print(\"X is not greater than 5\")"
   ]
  },
  {
   "cell_type": "code",
   "execution_count": 9,
   "metadata": {},
   "outputs": [
    {
     "name": "stdout",
     "output_type": "stream",
     "text": [
      "Welcome VIP customer\n"
     ]
    }
   ],
   "source": [
    "is_vip = True\n",
    "age = 30\n",
    "\n",
    "if is_vip:\n",
    "    if age >= 18:\n",
    "        if age < 65:\n",
    "            print(\"Welcome VIP customer\")\n",
    "        else:\n",
    "            print(\"You are vip but also qualified for senior citizen discount\")\n",
    "    else:\n",
    "        print(\"VIP status is only for adult\")\n",
    "else:\n",
    "    print(\"you are not a VIP and regular prices applied\")"
   ]
  },
  {
   "cell_type": "code",
   "execution_count": 10,
   "metadata": {},
   "outputs": [
    {
     "name": "stdout",
     "output_type": "stream",
     "text": [
      "Registration successfull\n"
     ]
    }
   ],
   "source": [
    "name = input(\"Please enter your name: \")\n",
    "email = input(\"Please enter your email: \")\n",
    "password = input(\"Please enter your password: \")\n",
    "\n",
    "if name == \"\":\n",
    "    print(\"Name cannot be empty\")\n",
    "else:\n",
    "    if \"@\" not in email:\n",
    "        print(\"Invalid email address\")\n",
    "    else:\n",
    "        if len(password) <= 0:\n",
    "            print(\"Invalid password\")\n",
    "        else:\n",
    "            print(\"Registration successfull\")"
   ]
  }
 ],
 "metadata": {
  "kernelspec": {
   "display_name": "Python 3",
   "language": "python",
   "name": "python3"
  },
  "language_info": {
   "codemirror_mode": {
    "name": "ipython",
    "version": 3
   },
   "file_extension": ".py",
   "mimetype": "text/x-python",
   "name": "python",
   "nbconvert_exporter": "python",
   "pygments_lexer": "ipython3",
   "version": "3.12.2"
  }
 },
 "nbformat": 4,
 "nbformat_minor": 2
}
