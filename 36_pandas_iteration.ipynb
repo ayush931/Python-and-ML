{
 "cells": [
  {
   "cell_type": "code",
   "execution_count": 1,
   "metadata": {},
   "outputs": [],
   "source": [
    "import pandas as pd"
   ]
  },
  {
   "cell_type": "code",
   "execution_count": 2,
   "metadata": {},
   "outputs": [],
   "source": [
    "# Example dataframe\n",
    "\n",
    "data = {\n",
    "    'Course': ['Data science', 'Data analysis', 'Web Development', 'Cloud Computing'],\n",
    "    'Duration': [2, 3, 1, 4],\n",
    "    'City': ['Banglore', 'Pune', 'Mumbai', 'Noida']\n",
    "}\n",
    "\n",
    "df = pd.DataFrame(data)"
   ]
  },
  {
   "cell_type": "code",
   "execution_count": 3,
   "metadata": {},
   "outputs": [
    {
     "data": {
      "text/html": [
       "<div>\n",
       "<style scoped>\n",
       "    .dataframe tbody tr th:only-of-type {\n",
       "        vertical-align: middle;\n",
       "    }\n",
       "\n",
       "    .dataframe tbody tr th {\n",
       "        vertical-align: top;\n",
       "    }\n",
       "\n",
       "    .dataframe thead th {\n",
       "        text-align: right;\n",
       "    }\n",
       "</style>\n",
       "<table border=\"1\" class=\"dataframe\">\n",
       "  <thead>\n",
       "    <tr style=\"text-align: right;\">\n",
       "      <th></th>\n",
       "      <th>Course</th>\n",
       "      <th>Duration</th>\n",
       "      <th>City</th>\n",
       "    </tr>\n",
       "  </thead>\n",
       "  <tbody>\n",
       "    <tr>\n",
       "      <th>0</th>\n",
       "      <td>Data science</td>\n",
       "      <td>2</td>\n",
       "      <td>Banglore</td>\n",
       "    </tr>\n",
       "    <tr>\n",
       "      <th>1</th>\n",
       "      <td>Data analysis</td>\n",
       "      <td>3</td>\n",
       "      <td>Pune</td>\n",
       "    </tr>\n",
       "    <tr>\n",
       "      <th>2</th>\n",
       "      <td>Web Development</td>\n",
       "      <td>1</td>\n",
       "      <td>Mumbai</td>\n",
       "    </tr>\n",
       "    <tr>\n",
       "      <th>3</th>\n",
       "      <td>Cloud Computing</td>\n",
       "      <td>4</td>\n",
       "      <td>Noida</td>\n",
       "    </tr>\n",
       "  </tbody>\n",
       "</table>\n",
       "</div>"
      ],
      "text/plain": [
       "            Course  Duration      City\n",
       "0     Data science         2  Banglore\n",
       "1    Data analysis         3      Pune\n",
       "2  Web Development         1    Mumbai\n",
       "3  Cloud Computing         4     Noida"
      ]
     },
     "execution_count": 3,
     "metadata": {},
     "output_type": "execute_result"
    }
   ],
   "source": [
    "df"
   ]
  },
  {
   "cell_type": "code",
   "execution_count": 4,
   "metadata": {},
   "outputs": [
    {
     "name": "stdout",
     "output_type": "stream",
     "text": [
      "Course\n",
      "Duration\n",
      "City\n"
     ]
    }
   ],
   "source": [
    "for i in df: \n",
    "    print(i)"
   ]
  },
  {
   "cell_type": "code",
   "execution_count": 5,
   "metadata": {},
   "outputs": [
    {
     "data": {
      "text/plain": [
       "0       Data science\n",
       "1      Data analysis\n",
       "2    Web Development\n",
       "3    Cloud Computing\n",
       "Name: Course, dtype: object"
      ]
     },
     "execution_count": 5,
     "metadata": {},
     "output_type": "execute_result"
    }
   ],
   "source": [
    "df['Course']"
   ]
  },
  {
   "cell_type": "code",
   "execution_count": 6,
   "metadata": {},
   "outputs": [
    {
     "name": "stdout",
     "output_type": "stream",
     "text": [
      "0       Data science\n",
      "1      Data analysis\n",
      "2    Web Development\n",
      "3    Cloud Computing\n",
      "Name: Course, dtype: object\n",
      "0    2\n",
      "1    3\n",
      "2    1\n",
      "3    4\n",
      "Name: Duration, dtype: int64\n",
      "0    Banglore\n",
      "1        Pune\n",
      "2      Mumbai\n",
      "3       Noida\n",
      "Name: City, dtype: object\n"
     ]
    }
   ],
   "source": [
    "for i in df:\n",
    "    print(df[i])"
   ]
  },
  {
   "cell_type": "code",
   "execution_count": 7,
   "metadata": {},
   "outputs": [
    {
     "name": "stdout",
     "output_type": "stream",
     "text": [
      "(0, Course      Data science\n",
      "Duration               2\n",
      "City            Banglore\n",
      "Name: 0, dtype: object)\n",
      "(1, Course      Data analysis\n",
      "Duration                3\n",
      "City                 Pune\n",
      "Name: 1, dtype: object)\n",
      "(2, Course      Web Development\n",
      "Duration                  1\n",
      "City                 Mumbai\n",
      "Name: 2, dtype: object)\n",
      "(3, Course      Cloud Computing\n",
      "Duration                  4\n",
      "City                  Noida\n",
      "Name: 3, dtype: object)\n"
     ]
    }
   ],
   "source": [
    "for i in df.iterrows():\n",
    "    print(i)"
   ]
  },
  {
   "cell_type": "code",
   "execution_count": 9,
   "metadata": {},
   "outputs": [
    {
     "name": "stdout",
     "output_type": "stream",
     "text": [
      "Index 0 \n",
      "Row value Course      Data science\n",
      "Duration               2\n",
      "City            Banglore\n",
      "Name: 0, dtype: object \n",
      "\n",
      "\n",
      "Index 1 \n",
      "Row value Course      Data analysis\n",
      "Duration                3\n",
      "City                 Pune\n",
      "Name: 1, dtype: object \n",
      "\n",
      "\n",
      "Index 2 \n",
      "Row value Course      Web Development\n",
      "Duration                  1\n",
      "City                 Mumbai\n",
      "Name: 2, dtype: object \n",
      "\n",
      "\n",
      "Index 3 \n",
      "Row value Course      Cloud Computing\n",
      "Duration                  4\n",
      "City                  Noida\n",
      "Name: 3, dtype: object \n",
      "\n",
      "\n"
     ]
    }
   ],
   "source": [
    "for i, j in df.iterrows():\n",
    "    print(f'Index {i} \\nRow value {j} \\n\\n')"
   ]
  },
  {
   "cell_type": "code",
   "execution_count": 10,
   "metadata": {},
   "outputs": [
    {
     "name": "stdout",
     "output_type": "stream",
     "text": [
      "Index 0 \n",
      "Course Data science \n",
      "\n",
      "\n",
      "Index 1 \n",
      "Course Data analysis \n",
      "\n",
      "\n",
      "Index 2 \n",
      "Course Web Development \n",
      "\n",
      "\n",
      "Index 3 \n",
      "Course Cloud Computing \n",
      "\n",
      "\n"
     ]
    }
   ],
   "source": [
    "for i, j in df.iterrows():\n",
    "    print(f'Index {i} \\nCourse {j['Course']} \\n\\n')"
   ]
  },
  {
   "cell_type": "code",
   "execution_count": 11,
   "metadata": {},
   "outputs": [
    {
     "name": "stdout",
     "output_type": "stream",
     "text": [
      "Index 0 \n",
      "Course Data science \n",
      "Duration 2\n",
      "City Banglore\n",
      "\n",
      "\n",
      "Index 1 \n",
      "Course Data analysis \n",
      "Duration 3\n",
      "City Pune\n",
      "\n",
      "\n",
      "Index 2 \n",
      "Course Web Development \n",
      "Duration 1\n",
      "City Mumbai\n",
      "\n",
      "\n",
      "Index 3 \n",
      "Course Cloud Computing \n",
      "Duration 4\n",
      "City Noida\n",
      "\n",
      "\n"
     ]
    }
   ],
   "source": [
    "for i, j in df.iterrows():\n",
    "    print(f'Index {i} \\nCourse {j['Course']} \\nDuration {j['Duration']}\\nCity {j['City']}\\n\\n')"
   ]
  },
  {
   "cell_type": "code",
   "execution_count": 12,
   "metadata": {},
   "outputs": [
    {
     "data": {
      "text/plain": [
       "<map at 0x7da1432fb190>"
      ]
     },
     "execution_count": 12,
     "metadata": {},
     "output_type": "execute_result"
    }
   ],
   "source": [
    "df.itertuples()"
   ]
  },
  {
   "cell_type": "code",
   "execution_count": 13,
   "metadata": {},
   "outputs": [
    {
     "name": "stdout",
     "output_type": "stream",
     "text": [
      "Pandas(Index=0, Course='Data science', Duration=2, City='Banglore')\n",
      "Pandas(Index=1, Course='Data analysis', Duration=3, City='Pune')\n",
      "Pandas(Index=2, Course='Web Development', Duration=1, City='Mumbai')\n",
      "Pandas(Index=3, Course='Cloud Computing', Duration=4, City='Noida')\n"
     ]
    }
   ],
   "source": [
    "for i in df.itertuples():\n",
    "    print(i)"
   ]
  },
  {
   "cell_type": "code",
   "execution_count": 15,
   "metadata": {},
   "outputs": [
    {
     "name": "stdout",
     "output_type": "stream",
     "text": [
      "Index: 0 \n",
      "Course: Data science \n",
      "Duration: 2 \n",
      "City: Banglore\n",
      "\n",
      "\n",
      "Index: 1 \n",
      "Course: Data analysis \n",
      "Duration: 3 \n",
      "City: Pune\n",
      "\n",
      "\n",
      "Index: 2 \n",
      "Course: Web Development \n",
      "Duration: 1 \n",
      "City: Mumbai\n",
      "\n",
      "\n",
      "Index: 3 \n",
      "Course: Cloud Computing \n",
      "Duration: 4 \n",
      "City: Noida\n",
      "\n",
      "\n"
     ]
    }
   ],
   "source": [
    "for i in df.itertuples():\n",
    "    print(f'Index: {i.Index} \\nCourse: {i.Course} \\nDuration: {i.Duration} \\nCity: {i.City}\\n\\n')"
   ]
  },
  {
   "cell_type": "code",
   "execution_count": 16,
   "metadata": {},
   "outputs": [
    {
     "data": {
      "text/plain": [
       "0    2\n",
       "1    4\n",
       "2    5\n",
       "3    6\n",
       "dtype: int64"
      ]
     },
     "execution_count": 16,
     "metadata": {},
     "output_type": "execute_result"
    }
   ],
   "source": [
    "series = pd.Series([2, 4, 5, 6])\n",
    "series"
   ]
  },
  {
   "cell_type": "code",
   "execution_count": 17,
   "metadata": {},
   "outputs": [
    {
     "name": "stdout",
     "output_type": "stream",
     "text": [
      "2\n",
      "4\n",
      "5\n",
      "6\n"
     ]
    }
   ],
   "source": [
    "for i in series:\n",
    "    print(i)"
   ]
  },
  {
   "cell_type": "code",
   "execution_count": 18,
   "metadata": {},
   "outputs": [
    {
     "data": {
      "text/plain": [
       "0       Data science\n",
       "1      Data analysis\n",
       "2    Web Development\n",
       "3    Cloud Computing\n",
       "Name: Course, dtype: object"
      ]
     },
     "execution_count": 18,
     "metadata": {},
     "output_type": "execute_result"
    }
   ],
   "source": [
    "df['Course']"
   ]
  },
  {
   "cell_type": "code",
   "execution_count": 19,
   "metadata": {},
   "outputs": [
    {
     "name": "stdout",
     "output_type": "stream",
     "text": [
      "Data science\n",
      "Data analysis\n",
      "Web Development\n",
      "Cloud Computing\n"
     ]
    }
   ],
   "source": [
    "for i in df['Course']:\n",
    "    print(i)"
   ]
  },
  {
   "cell_type": "code",
   "execution_count": 20,
   "metadata": {},
   "outputs": [
    {
     "data": {
      "text/html": [
       "<div>\n",
       "<style scoped>\n",
       "    .dataframe tbody tr th:only-of-type {\n",
       "        vertical-align: middle;\n",
       "    }\n",
       "\n",
       "    .dataframe tbody tr th {\n",
       "        vertical-align: top;\n",
       "    }\n",
       "\n",
       "    .dataframe thead th {\n",
       "        text-align: right;\n",
       "    }\n",
       "</style>\n",
       "<table border=\"1\" class=\"dataframe\">\n",
       "  <thead>\n",
       "    <tr style=\"text-align: right;\">\n",
       "      <th></th>\n",
       "      <th>Course</th>\n",
       "      <th>Duration</th>\n",
       "      <th>City</th>\n",
       "    </tr>\n",
       "  </thead>\n",
       "  <tbody>\n",
       "    <tr>\n",
       "      <th>1</th>\n",
       "      <td>Data analysis</td>\n",
       "      <td>3</td>\n",
       "      <td>Pune</td>\n",
       "    </tr>\n",
       "    <tr>\n",
       "      <th>3</th>\n",
       "      <td>Cloud Computing</td>\n",
       "      <td>4</td>\n",
       "      <td>Noida</td>\n",
       "    </tr>\n",
       "  </tbody>\n",
       "</table>\n",
       "</div>"
      ],
      "text/plain": [
       "            Course  Duration   City\n",
       "1    Data analysis         3   Pune\n",
       "3  Cloud Computing         4  Noida"
      ]
     },
     "execution_count": 20,
     "metadata": {},
     "output_type": "execute_result"
    }
   ],
   "source": [
    "df[df['Duration'] > 2]"
   ]
  },
  {
   "cell_type": "code",
   "execution_count": 21,
   "metadata": {},
   "outputs": [
    {
     "name": "stdout",
     "output_type": "stream",
     "text": [
      "Index 1 \n",
      "Course Data analysis \n",
      "Duration 3\n",
      "City Pune\n",
      "\n",
      "\n",
      "Index 3 \n",
      "Course Cloud Computing \n",
      "Duration 4\n",
      "City Noida\n",
      "\n",
      "\n"
     ]
    }
   ],
   "source": [
    "for i, j in df[df['Duration'] > 2].iterrows():\n",
    "    print(f'Index {i} \\nCourse {j['Course']} \\nDuration {j['Duration']}\\nCity {j['City']}\\n\\n')"
   ]
  },
  {
   "cell_type": "code",
   "execution_count": null,
   "metadata": {},
   "outputs": [],
   "source": []
  }
 ],
 "metadata": {
  "kernelspec": {
   "display_name": "Python 3",
   "language": "python",
   "name": "python3"
  },
  "language_info": {
   "codemirror_mode": {
    "name": "ipython",
    "version": 3
   },
   "file_extension": ".py",
   "mimetype": "text/x-python",
   "name": "python",
   "nbconvert_exporter": "python",
   "pygments_lexer": "ipython3",
   "version": "3.12.3"
  }
 },
 "nbformat": 4,
 "nbformat_minor": 2
}
