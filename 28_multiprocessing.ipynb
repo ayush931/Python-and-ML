{
 "cells": [
  {
   "cell_type": "code",
   "execution_count": 2,
   "metadata": {},
   "outputs": [
    {
     "name": "stdout",
     "output_type": "stream",
     "text": [
      "do something\n",
      "sleep for 1 sec\n",
      "do something\n",
      "sleep for 1 sec\n",
      "done with sleeping\n",
      "done with sleeping\n",
      "The program finished in 1.02 seconds.\n"
     ]
    }
   ],
   "source": [
    "import multiprocessing\n",
    "import time\n",
    "\n",
    "start = time.perf_counter()\n",
    "\n",
    "def test_func():\n",
    "    print(\"do something\")\n",
    "    print(\"sleep for 1 sec\")\n",
    "    time.sleep(1)\n",
    "    print(\"done with sleeping\")\n",
    "    \n",
    "p1 = multiprocessing.Process(target=test_func)\n",
    "p2 = multiprocessing.Process(target=test_func)\n",
    "\n",
    "p1.start()\n",
    "p2.start()\n",
    "\n",
    "p1.join()\n",
    "p2.join()\n",
    "\n",
    "end = time.perf_counter()\n",
    "\n",
    "print(f\"The program finished in {round(end - start, 2)} seconds.\")"
   ]
  },
  {
   "cell_type": "code",
   "execution_count": 4,
   "metadata": {},
   "outputs": [
    {
     "name": "stdout",
     "output_type": "stream",
     "text": [
      "do something\n",
      "sleep for 1 sec\n",
      "do something\n",
      "sleep for 1 sec\n",
      "do something\n",
      "sleep for 1 sec\n",
      "do something\n",
      "sleep for 1 sec\n",
      "do something\n",
      "sleep for 1 sec\n",
      "do something\n",
      "sleep for 1 secdo something\n",
      "\n",
      "sleep for 1 sec\n",
      "do something\n",
      "sleep for 1 sec\n",
      "do something\n",
      "sleep for 1 sec\n",
      "do something\n",
      "sleep for 1 sec\n",
      "done with sleeping\n",
      "done with sleeping\n",
      "done with sleeping\n",
      "done with sleeping\n",
      "done with sleeping\n",
      "done with sleeping\n",
      "done with sleeping\n",
      "done with sleeping\n",
      "done with sleeping\n",
      "done with sleeping\n",
      "The program finished in 1.07 seconds.\n"
     ]
    }
   ],
   "source": [
    "import multiprocessing\n",
    "import time\n",
    "\n",
    "start = time.perf_counter()\n",
    "\n",
    "def test_func():\n",
    "    print(\"do something\")\n",
    "    print(\"sleep for 1 sec\")\n",
    "    time.sleep(1)\n",
    "    print(\"done with sleeping\")\n",
    "    \n",
    "processes = []\n",
    "\n",
    "for i in range(10):\n",
    "    p = multiprocessing.Process(target=test_func)\n",
    "    p.start()\n",
    "    processes.append(p)\n",
    "    \n",
    "for process in processes:\n",
    "    process.join()\n",
    "\n",
    "end = time.perf_counter()\n",
    "\n",
    "print(f\"The program finished in {round(end - start, 2)} seconds.\")"
   ]
  },
  {
   "cell_type": "code",
   "execution_count": 6,
   "metadata": {},
   "outputs": [
    {
     "name": "stdout",
     "output_type": "stream",
     "text": [
      "[1, 4, 9, 16, 25, 36, 49, 64, 81, 100]\n",
      "The program finished in 0.04 seconds.\n"
     ]
    }
   ],
   "source": [
    "import multiprocessing\n",
    "import time\n",
    "\n",
    "start = time.perf_counter()\n",
    "\n",
    "def square(index, value):\n",
    "    value[index] = value[index] ** 2\n",
    "    \n",
    "arr = multiprocessing.Array('i', [1, 2, 3, 4, 5, 6, 7, 8, 9, 10])\n",
    "    \n",
    "processes = []\n",
    "\n",
    "for i in range(10):\n",
    "    p = multiprocessing.Process(target=square, args=(i, arr))\n",
    "    p.start()\n",
    "    processes.append(p)\n",
    "    \n",
    "for process in processes:\n",
    "    process.join()\n",
    "    \n",
    "print(list(arr))\n",
    "\n",
    "end = time.perf_counter()\n",
    "\n",
    "print(f\"The program finished in {round(end - start, 2)} seconds.\")"
   ]
  },
  {
   "cell_type": "code",
   "execution_count": 9,
   "metadata": {},
   "outputs": [
    {
     "name": "stdout",
     "output_type": "stream",
     "text": [
      "The square of 5 is 25. The square of 4 is 16. The square of 7 is 49. The square of 6 is 36. The square of 3 is 9. The square of 2 is 4. \n",
      "\n",
      "\n",
      "\n",
      "\n",
      "\n",
      "The program finished in 0.09 seconds.\n"
     ]
    }
   ],
   "source": [
    "import multiprocessing\n",
    "import time\n",
    "\n",
    "start = time.perf_counter()\n",
    "\n",
    "def square(no):\n",
    "    result = no * no    \n",
    "    print(f\"The square of {no} is {result}. \")\n",
    "\n",
    "numbers = [2, 3, 4, 5, 6, 7]\n",
    "\n",
    "with multiprocessing.Pool() as pool:\n",
    "    pool.map(square, numbers)\n",
    "    \n",
    "end = time.perf_counter()\n",
    "\n",
    "print(f\"The program finished in {round(end - start, 2)} seconds.\")"
   ]
  },
  {
   "cell_type": "code",
   "execution_count": 15,
   "metadata": {},
   "outputs": [
    {
     "name": "stdout",
     "output_type": "stream",
     "text": [
      "Registar: enroll Ayush\n",
      "Registar: enroll Aman\n",
      "Registar: enroll Ankit\n",
      "Registar: enroll Aryan\n"
     ]
    },
    {
     "name": "stdout",
     "output_type": "stream",
     "text": [
      "Registar: enroll Abhi\n"
     ]
    }
   ],
   "source": [
    "import multiprocessing\n",
    "\n",
    "def enroll_students(student_queue):\n",
    "    for student in [\"Ayush\", \"Aman\", \"Ankit\", \"Aryan\", \"Abhi\"]:\n",
    "        student_queue.put(f\"enroll {student}\")\n",
    "\n",
    "def register_students(student_queue):\n",
    "    while True:\n",
    "        enrollment_req = student_queue.get()\n",
    "        if enrollment_req is None:\n",
    "            break\n",
    "        print(f\"Registar: {enrollment_req}\")\n",
    "        \n",
    "if True:\n",
    "    student_queue = multiprocessing.Queue()\n",
    "    enrollment_process = multiprocessing.Process(target=enroll_students, args=(student_queue, ))\n",
    "    registration_process = multiprocessing.Process(target=register_students, args=(student_queue, ))\n",
    "    \n",
    "    enrollment_process.start()\n",
    "    registration_process.start()\n",
    "    \n",
    "    enrollment_process.join()\n",
    "    registration_process.join()"
   ]
  },
  {
   "cell_type": "code",
   "execution_count": 2,
   "metadata": {},
   "outputs": [
    {
     "name": "stdout",
     "output_type": "stream",
     "text": [
      "do somethingdo somethingdo somethingdo somethingdo somethingdo somethingdo somethingdo somethingdo somethingdo something\n",
      "\n",
      "\n",
      "\n",
      "\n",
      "\n",
      "\n",
      "\n",
      "\n",
      "\n",
      "sleep for 1 secsleep for 1 secsleep for 1 secsleep for 1 secsleep for 1 secsleep for 1 secsleep for 1 secsleep for 1 secsleep for 1 secsleep for 1 sec\n",
      "\n",
      "\n",
      "\n",
      "\n",
      "\n",
      "\n",
      "\n",
      "\n",
      "\n",
      "done with sleepingdone with sleepingdone with sleepingdone with sleepingdone with sleepingdone with sleepingdone with sleepingdone with sleepingdone with sleepingdone with sleeping\n",
      "\n",
      "\n",
      "\n",
      "\n",
      "\n",
      "\n",
      "\n",
      "\n",
      "\n",
      "The program finished in 1.08 seconds.\n"
     ]
    }
   ],
   "source": [
    "import concurrent.futures\n",
    "import time\n",
    "\n",
    "start = time.perf_counter()\n",
    "\n",
    "def test_func(i):\n",
    "    print(\"do something\")\n",
    "    print(\"sleep for 1 sec\")\n",
    "    time.sleep(1)\n",
    "    print(\"done with sleeping\")\n",
    "    \n",
    "with concurrent.futures.ProcessPoolExecutor() as executor:\n",
    "    executor.map(test_func, range(10))\n",
    "    \n",
    "end = time.perf_counter()\n",
    "\n",
    "print(f\"The program finished in {round(end - start, 2)} seconds.\")"
   ]
  }
 ],
 "metadata": {
  "kernelspec": {
   "display_name": "Python 3",
   "language": "python",
   "name": "python3"
  },
  "language_info": {
   "codemirror_mode": {
    "name": "ipython",
    "version": 3
   },
   "file_extension": ".py",
   "mimetype": "text/x-python",
   "name": "python",
   "nbconvert_exporter": "python",
   "pygments_lexer": "ipython3",
   "version": "3.12.3"
  }
 },
 "nbformat": 4,
 "nbformat_minor": 2
}
